{
 "cells": [
  {
   "cell_type": "code",
   "execution_count": 1,
   "id": "5328efb3",
   "metadata": {},
   "outputs": [],
   "source": [
    "import numpy as np\n",
    "import pandas as pd\n",
    "from sklearn.model_selection import train_test_split\n",
    "from sklearn.tree import DecisionTreeClassifier\n",
    "import matplotlib.pyplot as plt\n",
    "import seaborn as sns\n",
    "from sklearn.preprocessing import StandardScaler\n",
    "from sklearn.linear_model import LogisticRegression\n",
    "from statsmodels.stats.outliers_influence import variance_inflation_factor\n",
    "from sklearn.metrics import accuracy_score , confusion_matrix,roc_curve,roc_auc_score\n",
    "\n",
    "\n",
    "import warnings\n",
    "warnings.filterwarnings('ignore')\n",
    "\n",
    "#import all the necessary liabriries requried if needed with insert more "
   ]
  },
  {
   "cell_type": "code",
   "execution_count": 2,
   "id": "80791347",
   "metadata": {},
   "outputs": [
    {
     "data": {
      "text/html": [
       "<div>\n",
       "<style scoped>\n",
       "    .dataframe tbody tr th:only-of-type {\n",
       "        vertical-align: middle;\n",
       "    }\n",
       "\n",
       "    .dataframe tbody tr th {\n",
       "        vertical-align: top;\n",
       "    }\n",
       "\n",
       "    .dataframe thead th {\n",
       "        text-align: right;\n",
       "    }\n",
       "</style>\n",
       "<table border=\"1\" class=\"dataframe\">\n",
       "  <thead>\n",
       "    <tr style=\"text-align: right;\">\n",
       "      <th></th>\n",
       "      <th>PassengerId</th>\n",
       "      <th>Survived</th>\n",
       "      <th>Pclass</th>\n",
       "      <th>Name</th>\n",
       "      <th>Sex</th>\n",
       "      <th>Age</th>\n",
       "      <th>SibSp</th>\n",
       "      <th>Parch</th>\n",
       "      <th>Ticket</th>\n",
       "      <th>Fare</th>\n",
       "      <th>Cabin</th>\n",
       "      <th>Embarked</th>\n",
       "    </tr>\n",
       "  </thead>\n",
       "  <tbody>\n",
       "    <tr>\n",
       "      <th>0</th>\n",
       "      <td>1</td>\n",
       "      <td>0</td>\n",
       "      <td>3</td>\n",
       "      <td>Braund, Mr. Owen Harris</td>\n",
       "      <td>male</td>\n",
       "      <td>22.0</td>\n",
       "      <td>1</td>\n",
       "      <td>0</td>\n",
       "      <td>A/5 21171</td>\n",
       "      <td>7.2500</td>\n",
       "      <td>NaN</td>\n",
       "      <td>S</td>\n",
       "    </tr>\n",
       "    <tr>\n",
       "      <th>1</th>\n",
       "      <td>2</td>\n",
       "      <td>1</td>\n",
       "      <td>1</td>\n",
       "      <td>Cumings, Mrs. John Bradley (Florence Briggs Th...</td>\n",
       "      <td>female</td>\n",
       "      <td>38.0</td>\n",
       "      <td>1</td>\n",
       "      <td>0</td>\n",
       "      <td>PC 17599</td>\n",
       "      <td>71.2833</td>\n",
       "      <td>C85</td>\n",
       "      <td>C</td>\n",
       "    </tr>\n",
       "    <tr>\n",
       "      <th>2</th>\n",
       "      <td>3</td>\n",
       "      <td>1</td>\n",
       "      <td>3</td>\n",
       "      <td>Heikkinen, Miss. Laina</td>\n",
       "      <td>female</td>\n",
       "      <td>26.0</td>\n",
       "      <td>0</td>\n",
       "      <td>0</td>\n",
       "      <td>STON/O2. 3101282</td>\n",
       "      <td>7.9250</td>\n",
       "      <td>NaN</td>\n",
       "      <td>S</td>\n",
       "    </tr>\n",
       "    <tr>\n",
       "      <th>3</th>\n",
       "      <td>4</td>\n",
       "      <td>1</td>\n",
       "      <td>1</td>\n",
       "      <td>Futrelle, Mrs. Jacques Heath (Lily May Peel)</td>\n",
       "      <td>female</td>\n",
       "      <td>35.0</td>\n",
       "      <td>1</td>\n",
       "      <td>0</td>\n",
       "      <td>113803</td>\n",
       "      <td>53.1000</td>\n",
       "      <td>C123</td>\n",
       "      <td>S</td>\n",
       "    </tr>\n",
       "    <tr>\n",
       "      <th>4</th>\n",
       "      <td>5</td>\n",
       "      <td>0</td>\n",
       "      <td>3</td>\n",
       "      <td>Allen, Mr. William Henry</td>\n",
       "      <td>male</td>\n",
       "      <td>35.0</td>\n",
       "      <td>0</td>\n",
       "      <td>0</td>\n",
       "      <td>373450</td>\n",
       "      <td>8.0500</td>\n",
       "      <td>NaN</td>\n",
       "      <td>S</td>\n",
       "    </tr>\n",
       "  </tbody>\n",
       "</table>\n",
       "</div>"
      ],
      "text/plain": [
       "   PassengerId  Survived  Pclass  \\\n",
       "0            1         0       3   \n",
       "1            2         1       1   \n",
       "2            3         1       3   \n",
       "3            4         1       1   \n",
       "4            5         0       3   \n",
       "\n",
       "                                                Name     Sex   Age  SibSp  \\\n",
       "0                            Braund, Mr. Owen Harris    male  22.0      1   \n",
       "1  Cumings, Mrs. John Bradley (Florence Briggs Th...  female  38.0      1   \n",
       "2                             Heikkinen, Miss. Laina  female  26.0      0   \n",
       "3       Futrelle, Mrs. Jacques Heath (Lily May Peel)  female  35.0      1   \n",
       "4                           Allen, Mr. William Henry    male  35.0      0   \n",
       "\n",
       "   Parch            Ticket     Fare Cabin Embarked  \n",
       "0      0         A/5 21171   7.2500   NaN        S  \n",
       "1      0          PC 17599  71.2833   C85        C  \n",
       "2      0  STON/O2. 3101282   7.9250   NaN        S  \n",
       "3      0            113803  53.1000  C123        S  \n",
       "4      0            373450   8.0500   NaN        S  "
      ]
     },
     "execution_count": 2,
     "metadata": {},
     "output_type": "execute_result"
    }
   ],
   "source": [
    "df = pd.read_csv(r'C:\\Users\\SOOQ ELASER\\raw.githubusercontent.com_dsrscientist_dataset1_master_titanic_train.csv')\n",
    "df.head()"
   ]
  },
  {
   "cell_type": "code",
   "execution_count": 3,
   "id": "1b46d874",
   "metadata": {},
   "outputs": [
    {
     "data": {
      "text/plain": [
       "(891, 12)"
      ]
     },
     "execution_count": 3,
     "metadata": {},
     "output_type": "execute_result"
    }
   ],
   "source": [
    "df.shape\n",
    "#the shape of Data Set is 891 rows and 11 columns"
   ]
  },
  {
   "cell_type": "code",
   "execution_count": 4,
   "id": "e0cf1d8a",
   "metadata": {},
   "outputs": [
    {
     "data": {
      "text/html": [
       "<div>\n",
       "<style scoped>\n",
       "    .dataframe tbody tr th:only-of-type {\n",
       "        vertical-align: middle;\n",
       "    }\n",
       "\n",
       "    .dataframe tbody tr th {\n",
       "        vertical-align: top;\n",
       "    }\n",
       "\n",
       "    .dataframe thead th {\n",
       "        text-align: right;\n",
       "    }\n",
       "</style>\n",
       "<table border=\"1\" class=\"dataframe\">\n",
       "  <thead>\n",
       "    <tr style=\"text-align: right;\">\n",
       "      <th></th>\n",
       "      <th>PassengerId</th>\n",
       "      <th>Survived</th>\n",
       "      <th>Pclass</th>\n",
       "      <th>Name</th>\n",
       "      <th>Sex</th>\n",
       "      <th>Age</th>\n",
       "      <th>SibSp</th>\n",
       "      <th>Parch</th>\n",
       "      <th>Ticket</th>\n",
       "      <th>Fare</th>\n",
       "      <th>Embarked</th>\n",
       "    </tr>\n",
       "  </thead>\n",
       "  <tbody>\n",
       "    <tr>\n",
       "      <th>0</th>\n",
       "      <td>1</td>\n",
       "      <td>0</td>\n",
       "      <td>3</td>\n",
       "      <td>Braund, Mr. Owen Harris</td>\n",
       "      <td>male</td>\n",
       "      <td>22.0</td>\n",
       "      <td>1</td>\n",
       "      <td>0</td>\n",
       "      <td>A/5 21171</td>\n",
       "      <td>7.2500</td>\n",
       "      <td>S</td>\n",
       "    </tr>\n",
       "    <tr>\n",
       "      <th>1</th>\n",
       "      <td>2</td>\n",
       "      <td>1</td>\n",
       "      <td>1</td>\n",
       "      <td>Cumings, Mrs. John Bradley (Florence Briggs Th...</td>\n",
       "      <td>female</td>\n",
       "      <td>38.0</td>\n",
       "      <td>1</td>\n",
       "      <td>0</td>\n",
       "      <td>PC 17599</td>\n",
       "      <td>71.2833</td>\n",
       "      <td>C</td>\n",
       "    </tr>\n",
       "    <tr>\n",
       "      <th>2</th>\n",
       "      <td>3</td>\n",
       "      <td>1</td>\n",
       "      <td>3</td>\n",
       "      <td>Heikkinen, Miss. Laina</td>\n",
       "      <td>female</td>\n",
       "      <td>26.0</td>\n",
       "      <td>0</td>\n",
       "      <td>0</td>\n",
       "      <td>STON/O2. 3101282</td>\n",
       "      <td>7.9250</td>\n",
       "      <td>S</td>\n",
       "    </tr>\n",
       "    <tr>\n",
       "      <th>3</th>\n",
       "      <td>4</td>\n",
       "      <td>1</td>\n",
       "      <td>1</td>\n",
       "      <td>Futrelle, Mrs. Jacques Heath (Lily May Peel)</td>\n",
       "      <td>female</td>\n",
       "      <td>35.0</td>\n",
       "      <td>1</td>\n",
       "      <td>0</td>\n",
       "      <td>113803</td>\n",
       "      <td>53.1000</td>\n",
       "      <td>S</td>\n",
       "    </tr>\n",
       "    <tr>\n",
       "      <th>4</th>\n",
       "      <td>5</td>\n",
       "      <td>0</td>\n",
       "      <td>3</td>\n",
       "      <td>Allen, Mr. William Henry</td>\n",
       "      <td>male</td>\n",
       "      <td>35.0</td>\n",
       "      <td>0</td>\n",
       "      <td>0</td>\n",
       "      <td>373450</td>\n",
       "      <td>8.0500</td>\n",
       "      <td>S</td>\n",
       "    </tr>\n",
       "    <tr>\n",
       "      <th>...</th>\n",
       "      <td>...</td>\n",
       "      <td>...</td>\n",
       "      <td>...</td>\n",
       "      <td>...</td>\n",
       "      <td>...</td>\n",
       "      <td>...</td>\n",
       "      <td>...</td>\n",
       "      <td>...</td>\n",
       "      <td>...</td>\n",
       "      <td>...</td>\n",
       "      <td>...</td>\n",
       "    </tr>\n",
       "    <tr>\n",
       "      <th>886</th>\n",
       "      <td>887</td>\n",
       "      <td>0</td>\n",
       "      <td>2</td>\n",
       "      <td>Montvila, Rev. Juozas</td>\n",
       "      <td>male</td>\n",
       "      <td>27.0</td>\n",
       "      <td>0</td>\n",
       "      <td>0</td>\n",
       "      <td>211536</td>\n",
       "      <td>13.0000</td>\n",
       "      <td>S</td>\n",
       "    </tr>\n",
       "    <tr>\n",
       "      <th>887</th>\n",
       "      <td>888</td>\n",
       "      <td>1</td>\n",
       "      <td>1</td>\n",
       "      <td>Graham, Miss. Margaret Edith</td>\n",
       "      <td>female</td>\n",
       "      <td>19.0</td>\n",
       "      <td>0</td>\n",
       "      <td>0</td>\n",
       "      <td>112053</td>\n",
       "      <td>30.0000</td>\n",
       "      <td>S</td>\n",
       "    </tr>\n",
       "    <tr>\n",
       "      <th>888</th>\n",
       "      <td>889</td>\n",
       "      <td>0</td>\n",
       "      <td>3</td>\n",
       "      <td>Johnston, Miss. Catherine Helen \"Carrie\"</td>\n",
       "      <td>female</td>\n",
       "      <td>NaN</td>\n",
       "      <td>1</td>\n",
       "      <td>2</td>\n",
       "      <td>W./C. 6607</td>\n",
       "      <td>23.4500</td>\n",
       "      <td>S</td>\n",
       "    </tr>\n",
       "    <tr>\n",
       "      <th>889</th>\n",
       "      <td>890</td>\n",
       "      <td>1</td>\n",
       "      <td>1</td>\n",
       "      <td>Behr, Mr. Karl Howell</td>\n",
       "      <td>male</td>\n",
       "      <td>26.0</td>\n",
       "      <td>0</td>\n",
       "      <td>0</td>\n",
       "      <td>111369</td>\n",
       "      <td>30.0000</td>\n",
       "      <td>C</td>\n",
       "    </tr>\n",
       "    <tr>\n",
       "      <th>890</th>\n",
       "      <td>891</td>\n",
       "      <td>0</td>\n",
       "      <td>3</td>\n",
       "      <td>Dooley, Mr. Patrick</td>\n",
       "      <td>male</td>\n",
       "      <td>32.0</td>\n",
       "      <td>0</td>\n",
       "      <td>0</td>\n",
       "      <td>370376</td>\n",
       "      <td>7.7500</td>\n",
       "      <td>Q</td>\n",
       "    </tr>\n",
       "  </tbody>\n",
       "</table>\n",
       "<p>891 rows × 11 columns</p>\n",
       "</div>"
      ],
      "text/plain": [
       "     PassengerId  Survived  Pclass  \\\n",
       "0              1         0       3   \n",
       "1              2         1       1   \n",
       "2              3         1       3   \n",
       "3              4         1       1   \n",
       "4              5         0       3   \n",
       "..           ...       ...     ...   \n",
       "886          887         0       2   \n",
       "887          888         1       1   \n",
       "888          889         0       3   \n",
       "889          890         1       1   \n",
       "890          891         0       3   \n",
       "\n",
       "                                                  Name     Sex   Age  SibSp  \\\n",
       "0                              Braund, Mr. Owen Harris    male  22.0      1   \n",
       "1    Cumings, Mrs. John Bradley (Florence Briggs Th...  female  38.0      1   \n",
       "2                               Heikkinen, Miss. Laina  female  26.0      0   \n",
       "3         Futrelle, Mrs. Jacques Heath (Lily May Peel)  female  35.0      1   \n",
       "4                             Allen, Mr. William Henry    male  35.0      0   \n",
       "..                                                 ...     ...   ...    ...   \n",
       "886                              Montvila, Rev. Juozas    male  27.0      0   \n",
       "887                       Graham, Miss. Margaret Edith  female  19.0      0   \n",
       "888           Johnston, Miss. Catherine Helen \"Carrie\"  female   NaN      1   \n",
       "889                              Behr, Mr. Karl Howell    male  26.0      0   \n",
       "890                                Dooley, Mr. Patrick    male  32.0      0   \n",
       "\n",
       "     Parch            Ticket     Fare Embarked  \n",
       "0        0         A/5 21171   7.2500        S  \n",
       "1        0          PC 17599  71.2833        C  \n",
       "2        0  STON/O2. 3101282   7.9250        S  \n",
       "3        0            113803  53.1000        S  \n",
       "4        0            373450   8.0500        S  \n",
       "..     ...               ...      ...      ...  \n",
       "886      0            211536  13.0000        S  \n",
       "887      0            112053  30.0000        S  \n",
       "888      2        W./C. 6607  23.4500        S  \n",
       "889      0            111369  30.0000        C  \n",
       "890      0            370376   7.7500        Q  \n",
       "\n",
       "[891 rows x 11 columns]"
      ]
     },
     "execution_count": 4,
     "metadata": {},
     "output_type": "execute_result"
    }
   ],
   "source": [
    "df = df.drop('Cabin',axis=1)\n",
    "df\n",
    "#for prediction we dont wanted any cabin data hence droping the same\n",
    "#Dropping 'Cabin' since of its values is missing and therefore it cannot contribute to building a good model for predicting the target variable values."
   ]
  },
  {
   "cell_type": "code",
   "execution_count": 5,
   "id": "b20284a6",
   "metadata": {},
   "outputs": [
    {
     "data": {
      "text/plain": [
       "PassengerId      0\n",
       "Survived         0\n",
       "Pclass           0\n",
       "Name             0\n",
       "Sex              0\n",
       "Age            177\n",
       "SibSp            0\n",
       "Parch            0\n",
       "Ticket           0\n",
       "Fare             0\n",
       "Embarked         2\n",
       "dtype: int64"
      ]
     },
     "execution_count": 5,
     "metadata": {},
     "output_type": "execute_result"
    }
   ],
   "source": [
    "df.isnull().sum()\n",
    "#needs to check weather null value is present or not one more method df.isnull().sum()\n",
    "#there is  null value in dataset in age and embarked"
   ]
  },
  {
   "cell_type": "code",
   "execution_count": 6,
   "id": "ead3a1ff",
   "metadata": {},
   "outputs": [],
   "source": [
    "df['Age']= df['Age'].fillna(df['Age'].mean())\n",
    "\n",
    "#fill null value using this method there are many methoda also available to fill null"
   ]
  },
  {
   "cell_type": "code",
   "execution_count": 7,
   "id": "3b48ea9b",
   "metadata": {},
   "outputs": [
    {
     "data": {
      "text/plain": [
       "PassengerId    0\n",
       "Survived       0\n",
       "Pclass         0\n",
       "Name           0\n",
       "Sex            0\n",
       "Age            0\n",
       "SibSp          0\n",
       "Parch          0\n",
       "Ticket         0\n",
       "Fare           0\n",
       "Embarked       2\n",
       "dtype: int64"
      ]
     },
     "execution_count": 7,
     "metadata": {},
     "output_type": "execute_result"
    }
   ],
   "source": [
    "df.isnull().sum()\n",
    "# filled the null value using method \n",
    "#Embarked not filled as its string "
   ]
  },
  {
   "cell_type": "code",
   "execution_count": 8,
   "id": "2f39471b",
   "metadata": {},
   "outputs": [
    {
     "data": {
      "text/plain": [
       "0"
      ]
     },
     "execution_count": 8,
     "metadata": {},
     "output_type": "execute_result"
    }
   ],
   "source": [
    "df.duplicated().sum()\n",
    "#checked any dupliacte available or not so no value present"
   ]
  },
  {
   "cell_type": "code",
   "execution_count": 9,
   "id": "542f1d0d",
   "metadata": {},
   "outputs": [
    {
     "data": {
      "text/html": [
       "<div>\n",
       "<style scoped>\n",
       "    .dataframe tbody tr th:only-of-type {\n",
       "        vertical-align: middle;\n",
       "    }\n",
       "\n",
       "    .dataframe tbody tr th {\n",
       "        vertical-align: top;\n",
       "    }\n",
       "\n",
       "    .dataframe thead th {\n",
       "        text-align: right;\n",
       "    }\n",
       "</style>\n",
       "<table border=\"1\" class=\"dataframe\">\n",
       "  <thead>\n",
       "    <tr style=\"text-align: right;\">\n",
       "      <th></th>\n",
       "      <th>PassengerId</th>\n",
       "      <th>Survived</th>\n",
       "      <th>Pclass</th>\n",
       "      <th>Age</th>\n",
       "      <th>SibSp</th>\n",
       "      <th>Parch</th>\n",
       "      <th>Fare</th>\n",
       "    </tr>\n",
       "  </thead>\n",
       "  <tbody>\n",
       "    <tr>\n",
       "      <th>count</th>\n",
       "      <td>891.000000</td>\n",
       "      <td>891.000000</td>\n",
       "      <td>891.000000</td>\n",
       "      <td>891.000000</td>\n",
       "      <td>891.000000</td>\n",
       "      <td>891.000000</td>\n",
       "      <td>891.000000</td>\n",
       "    </tr>\n",
       "    <tr>\n",
       "      <th>mean</th>\n",
       "      <td>446.000000</td>\n",
       "      <td>0.383838</td>\n",
       "      <td>2.308642</td>\n",
       "      <td>29.699118</td>\n",
       "      <td>0.523008</td>\n",
       "      <td>0.381594</td>\n",
       "      <td>32.204208</td>\n",
       "    </tr>\n",
       "    <tr>\n",
       "      <th>std</th>\n",
       "      <td>257.353842</td>\n",
       "      <td>0.486592</td>\n",
       "      <td>0.836071</td>\n",
       "      <td>13.002015</td>\n",
       "      <td>1.102743</td>\n",
       "      <td>0.806057</td>\n",
       "      <td>49.693429</td>\n",
       "    </tr>\n",
       "    <tr>\n",
       "      <th>min</th>\n",
       "      <td>1.000000</td>\n",
       "      <td>0.000000</td>\n",
       "      <td>1.000000</td>\n",
       "      <td>0.420000</td>\n",
       "      <td>0.000000</td>\n",
       "      <td>0.000000</td>\n",
       "      <td>0.000000</td>\n",
       "    </tr>\n",
       "    <tr>\n",
       "      <th>25%</th>\n",
       "      <td>223.500000</td>\n",
       "      <td>0.000000</td>\n",
       "      <td>2.000000</td>\n",
       "      <td>22.000000</td>\n",
       "      <td>0.000000</td>\n",
       "      <td>0.000000</td>\n",
       "      <td>7.910400</td>\n",
       "    </tr>\n",
       "    <tr>\n",
       "      <th>50%</th>\n",
       "      <td>446.000000</td>\n",
       "      <td>0.000000</td>\n",
       "      <td>3.000000</td>\n",
       "      <td>29.699118</td>\n",
       "      <td>0.000000</td>\n",
       "      <td>0.000000</td>\n",
       "      <td>14.454200</td>\n",
       "    </tr>\n",
       "    <tr>\n",
       "      <th>75%</th>\n",
       "      <td>668.500000</td>\n",
       "      <td>1.000000</td>\n",
       "      <td>3.000000</td>\n",
       "      <td>35.000000</td>\n",
       "      <td>1.000000</td>\n",
       "      <td>0.000000</td>\n",
       "      <td>31.000000</td>\n",
       "    </tr>\n",
       "    <tr>\n",
       "      <th>max</th>\n",
       "      <td>891.000000</td>\n",
       "      <td>1.000000</td>\n",
       "      <td>3.000000</td>\n",
       "      <td>80.000000</td>\n",
       "      <td>8.000000</td>\n",
       "      <td>6.000000</td>\n",
       "      <td>512.329200</td>\n",
       "    </tr>\n",
       "  </tbody>\n",
       "</table>\n",
       "</div>"
      ],
      "text/plain": [
       "       PassengerId    Survived      Pclass         Age       SibSp  \\\n",
       "count   891.000000  891.000000  891.000000  891.000000  891.000000   \n",
       "mean    446.000000    0.383838    2.308642   29.699118    0.523008   \n",
       "std     257.353842    0.486592    0.836071   13.002015    1.102743   \n",
       "min       1.000000    0.000000    1.000000    0.420000    0.000000   \n",
       "25%     223.500000    0.000000    2.000000   22.000000    0.000000   \n",
       "50%     446.000000    0.000000    3.000000   29.699118    0.000000   \n",
       "75%     668.500000    1.000000    3.000000   35.000000    1.000000   \n",
       "max     891.000000    1.000000    3.000000   80.000000    8.000000   \n",
       "\n",
       "            Parch        Fare  \n",
       "count  891.000000  891.000000  \n",
       "mean     0.381594   32.204208  \n",
       "std      0.806057   49.693429  \n",
       "min      0.000000    0.000000  \n",
       "25%      0.000000    7.910400  \n",
       "50%      0.000000   14.454200  \n",
       "75%      0.000000   31.000000  \n",
       "max      6.000000  512.329200  "
      ]
     },
     "execution_count": 9,
     "metadata": {},
     "output_type": "execute_result"
    }
   ],
   "source": [
    "df.describe()\n",
    "#in int there is no null value in data set"
   ]
  },
  {
   "cell_type": "code",
   "execution_count": 10,
   "id": "430bf947",
   "metadata": {},
   "outputs": [
    {
     "data": {
      "text/plain": [
       "PassengerId    891\n",
       "Survived         2\n",
       "Pclass           3\n",
       "Name           891\n",
       "Sex              2\n",
       "Age             89\n",
       "SibSp            7\n",
       "Parch            7\n",
       "Ticket         681\n",
       "Fare           248\n",
       "Embarked         3\n",
       "dtype: int64"
      ]
     },
     "execution_count": 10,
     "metadata": {},
     "output_type": "execute_result"
    }
   ],
   "source": [
    "df.nunique()\n",
    "#needs to check how many unique value in dataset\n",
    "#survived has 2 categories\n",
    "#pclass has 3 categories\n",
    "# sex has 2 categories\n",
    "#sibsp & parch has 7 categories\n",
    "#Embarked has 3 categories"
   ]
  },
  {
   "cell_type": "code",
   "execution_count": 11,
   "id": "f11b3685",
   "metadata": {},
   "outputs": [
    {
     "data": {
      "text/plain": [
       "array([0, 1], dtype=int64)"
      ]
     },
     "execution_count": 11,
     "metadata": {},
     "output_type": "execute_result"
    }
   ],
   "source": [
    "df['Survived'].unique()\n",
    "#first check unique values 0 and 1"
   ]
  },
  {
   "cell_type": "code",
   "execution_count": 12,
   "id": "112d4e17",
   "metadata": {},
   "outputs": [
    {
     "data": {
      "text/plain": [
       "0    549\n",
       "1    342\n",
       "Name: Survived, dtype: int64"
      ]
     },
     "execution_count": 12,
     "metadata": {},
     "output_type": "execute_result"
    }
   ],
   "source": [
    "df['Survived'].value_counts()\n",
    "# how many survived in each categorie Survived "
   ]
  },
  {
   "cell_type": "code",
   "execution_count": 13,
   "id": "7fa7ffd1",
   "metadata": {},
   "outputs": [
    {
     "data": {
      "text/plain": [
       "<AxesSubplot:ylabel='Survived'>"
      ]
     },
     "execution_count": 13,
     "metadata": {},
     "output_type": "execute_result"
    },
    {
     "data": {
      "image/png": "[encoded data removed]",
      "text/plain": [
       "<Figure size 640x480 with 1 Axes>"
      ]
     },
     "metadata": {},
     "output_type": "display_data"
    }
   ],
   "source": [
    "df['Survived'].value_counts().plot.pie(explode=[0,0.1],\n",
    "                                       autopct='%2.1f%%',shadow=True)\n",
    "#survive value percentage"
   ]
  },
  {
   "cell_type": "code",
   "execution_count": 14,
   "id": "e884a5ac",
   "metadata": {},
   "outputs": [
    {
     "data": {
      "text/plain": [
       "<AxesSubplot:xlabel='Survived', ylabel='count'>"
      ]
     },
     "execution_count": 14,
     "metadata": {},
     "output_type": "execute_result"
    },
    {
     "data": {
      "image/png": "[encoded data removed]",
      "text/plain": [
       "<Figure size 640x480 with 1 Axes>"
      ]
     },
     "metadata": {},
     "output_type": "display_data"
    }
   ],
   "source": [
    "sns.countplot(df[\"Survived\"])\n",
    "#countplot for survived"
   ]
  },
  {
   "cell_type": "code",
   "execution_count": 15,
   "id": "9087b19a",
   "metadata": {},
   "outputs": [
    {
     "data": {
      "text/plain": [
       "Sex     Survived\n",
       "female  0            81\n",
       "        1           233\n",
       "male    0           468\n",
       "        1           109\n",
       "Name: Survived, dtype: int64"
      ]
     },
     "execution_count": 15,
     "metadata": {},
     "output_type": "execute_result"
    }
   ],
   "source": [
    "df.groupby(['Sex','Survived'])['Survived'].count()"
   ]
  },
  {
   "cell_type": "code",
   "execution_count": 16,
   "id": "064c9c88",
   "metadata": {},
   "outputs": [
    {
     "data": {
      "text/plain": [
       "<AxesSubplot:xlabel='Survived', ylabel='count'>"
      ]
     },
     "execution_count": 16,
     "metadata": {},
     "output_type": "execute_result"
    },
    {
     "data": {
      "image/png": "[encoded data removed]",
      "text/plain": [
       "<Figure size 640x480 with 1 Axes>"
      ]
     },
     "metadata": {},
     "output_type": "display_data"
    }
   ],
   "source": [
    "sns.countplot(df[\"Survived\"], hue=df[\"Sex\"])\n",
    "#countplot for survived and sex of different catrgories\n",
    "#count of men is more than women\n",
    "#but more female survived if chart compare"
   ]
  },
  {
   "cell_type": "code",
   "execution_count": 17,
   "id": "95643bc6",
   "metadata": {},
   "outputs": [
    {
     "data": {
      "text/html": [
       "<div>\n",
       "<style scoped>\n",
       "    .dataframe tbody tr th:only-of-type {\n",
       "        vertical-align: middle;\n",
       "    }\n",
       "\n",
       "    .dataframe tbody tr th {\n",
       "        vertical-align: top;\n",
       "    }\n",
       "\n",
       "    .dataframe thead th {\n",
       "        text-align: right;\n",
       "    }\n",
       "</style>\n",
       "<table border=\"1\" class=\"dataframe\">\n",
       "  <thead>\n",
       "    <tr style=\"text-align: right;\">\n",
       "      <th>Survived</th>\n",
       "      <th>0</th>\n",
       "      <th>1</th>\n",
       "      <th>All</th>\n",
       "    </tr>\n",
       "    <tr>\n",
       "      <th>Pclass</th>\n",
       "      <th></th>\n",
       "      <th></th>\n",
       "      <th></th>\n",
       "    </tr>\n",
       "  </thead>\n",
       "  <tbody>\n",
       "    <tr>\n",
       "      <th>1</th>\n",
       "      <td>80</td>\n",
       "      <td>136</td>\n",
       "      <td>216</td>\n",
       "    </tr>\n",
       "    <tr>\n",
       "      <th>2</th>\n",
       "      <td>97</td>\n",
       "      <td>87</td>\n",
       "      <td>184</td>\n",
       "    </tr>\n",
       "    <tr>\n",
       "      <th>3</th>\n",
       "      <td>372</td>\n",
       "      <td>119</td>\n",
       "      <td>491</td>\n",
       "    </tr>\n",
       "    <tr>\n",
       "      <th>All</th>\n",
       "      <td>549</td>\n",
       "      <td>342</td>\n",
       "      <td>891</td>\n",
       "    </tr>\n",
       "  </tbody>\n",
       "</table>\n",
       "</div>"
      ],
      "text/plain": [
       "Survived    0    1  All\n",
       "Pclass                 \n",
       "1          80  136  216\n",
       "2          97   87  184\n",
       "3         372  119  491\n",
       "All       549  342  891"
      ]
     },
     "execution_count": 17,
     "metadata": {},
     "output_type": "execute_result"
    }
   ],
   "source": [
    "pd.crosstab(df.Pclass,df.Survived, margins=True)\n",
    "#compare between who is in pclass and how many survived\n",
    "#survived passenger ratir is quite high "
   ]
  },
  {
   "cell_type": "code",
   "execution_count": 18,
   "id": "89990112",
   "metadata": {},
   "outputs": [
    {
     "data": {
      "text/html": [
       "<div>\n",
       "<style scoped>\n",
       "    .dataframe tbody tr th:only-of-type {\n",
       "        vertical-align: middle;\n",
       "    }\n",
       "\n",
       "    .dataframe tbody tr th {\n",
       "        vertical-align: top;\n",
       "    }\n",
       "\n",
       "    .dataframe thead th {\n",
       "        text-align: right;\n",
       "    }\n",
       "</style>\n",
       "<table border=\"1\" class=\"dataframe\">\n",
       "  <thead>\n",
       "    <tr style=\"text-align: right;\">\n",
       "      <th>Survived</th>\n",
       "      <th>0</th>\n",
       "      <th>1</th>\n",
       "      <th>All</th>\n",
       "    </tr>\n",
       "    <tr>\n",
       "      <th>SibSp</th>\n",
       "      <th></th>\n",
       "      <th></th>\n",
       "      <th></th>\n",
       "    </tr>\n",
       "  </thead>\n",
       "  <tbody>\n",
       "    <tr>\n",
       "      <th>0</th>\n",
       "      <td>398</td>\n",
       "      <td>210</td>\n",
       "      <td>608</td>\n",
       "    </tr>\n",
       "    <tr>\n",
       "      <th>1</th>\n",
       "      <td>97</td>\n",
       "      <td>112</td>\n",
       "      <td>209</td>\n",
       "    </tr>\n",
       "    <tr>\n",
       "      <th>2</th>\n",
       "      <td>15</td>\n",
       "      <td>13</td>\n",
       "      <td>28</td>\n",
       "    </tr>\n",
       "    <tr>\n",
       "      <th>3</th>\n",
       "      <td>12</td>\n",
       "      <td>4</td>\n",
       "      <td>16</td>\n",
       "    </tr>\n",
       "    <tr>\n",
       "      <th>4</th>\n",
       "      <td>15</td>\n",
       "      <td>3</td>\n",
       "      <td>18</td>\n",
       "    </tr>\n",
       "    <tr>\n",
       "      <th>5</th>\n",
       "      <td>5</td>\n",
       "      <td>0</td>\n",
       "      <td>5</td>\n",
       "    </tr>\n",
       "    <tr>\n",
       "      <th>8</th>\n",
       "      <td>7</td>\n",
       "      <td>0</td>\n",
       "      <td>7</td>\n",
       "    </tr>\n",
       "    <tr>\n",
       "      <th>All</th>\n",
       "      <td>549</td>\n",
       "      <td>342</td>\n",
       "      <td>891</td>\n",
       "    </tr>\n",
       "  </tbody>\n",
       "</table>\n",
       "</div>"
      ],
      "text/plain": [
       "Survived    0    1  All\n",
       "SibSp                  \n",
       "0         398  210  608\n",
       "1          97  112  209\n",
       "2          15   13   28\n",
       "3          12    4   16\n",
       "4          15    3   18\n",
       "5           5    0    5\n",
       "8           7    0    7\n",
       "All       549  342  891"
      ]
     },
     "execution_count": 18,
     "metadata": {},
     "output_type": "execute_result"
    }
   ],
   "source": [
    "pd.crosstab(df.SibSp,df.Survived, margins=True)\n",
    "#compare between who is in SibSp and how many survived\n",
    "#if compare p class and sibsp in pclass passenger is less but srvived more but in sibsp number is very high of passenger but survived very low because in lower class"
   ]
  },
  {
   "cell_type": "code",
   "execution_count": 19,
   "id": "c9aaf350",
   "metadata": {},
   "outputs": [
    {
     "data": {
      "text/html": [
       "<div>\n",
       "<style scoped>\n",
       "    .dataframe tbody tr th:only-of-type {\n",
       "        vertical-align: middle;\n",
       "    }\n",
       "\n",
       "    .dataframe tbody tr th {\n",
       "        vertical-align: top;\n",
       "    }\n",
       "\n",
       "    .dataframe thead th {\n",
       "        text-align: right;\n",
       "    }\n",
       "</style>\n",
       "<table border=\"1\" class=\"dataframe\">\n",
       "  <thead>\n",
       "    <tr style=\"text-align: right;\">\n",
       "      <th>Survived</th>\n",
       "      <th>0</th>\n",
       "      <th>1</th>\n",
       "      <th>All</th>\n",
       "    </tr>\n",
       "    <tr>\n",
       "      <th>Embarked</th>\n",
       "      <th></th>\n",
       "      <th></th>\n",
       "      <th></th>\n",
       "    </tr>\n",
       "  </thead>\n",
       "  <tbody>\n",
       "    <tr>\n",
       "      <th>C</th>\n",
       "      <td>75</td>\n",
       "      <td>93</td>\n",
       "      <td>168</td>\n",
       "    </tr>\n",
       "    <tr>\n",
       "      <th>Q</th>\n",
       "      <td>47</td>\n",
       "      <td>30</td>\n",
       "      <td>77</td>\n",
       "    </tr>\n",
       "    <tr>\n",
       "      <th>S</th>\n",
       "      <td>427</td>\n",
       "      <td>217</td>\n",
       "      <td>644</td>\n",
       "    </tr>\n",
       "    <tr>\n",
       "      <th>All</th>\n",
       "      <td>549</td>\n",
       "      <td>340</td>\n",
       "      <td>889</td>\n",
       "    </tr>\n",
       "  </tbody>\n",
       "</table>\n",
       "</div>"
      ],
      "text/plain": [
       "Survived    0    1  All\n",
       "Embarked               \n",
       "C          75   93  168\n",
       "Q          47   30   77\n",
       "S         427  217  644\n",
       "All       549  340  889"
      ]
     },
     "execution_count": 19,
     "metadata": {},
     "output_type": "execute_result"
    }
   ],
   "source": [
    "\n",
    "pd.crosstab(df.Embarked,df.Survived, margins=True)\n",
    "#also for embarked "
   ]
  },
  {
   "cell_type": "code",
   "execution_count": 20,
   "id": "4625c296",
   "metadata": {},
   "outputs": [
    {
     "data": {
      "text/html": [
       "<div>\n",
       "<style scoped>\n",
       "    .dataframe tbody tr th:only-of-type {\n",
       "        vertical-align: middle;\n",
       "    }\n",
       "\n",
       "    .dataframe tbody tr th {\n",
       "        vertical-align: top;\n",
       "    }\n",
       "\n",
       "    .dataframe thead th {\n",
       "        text-align: right;\n",
       "    }\n",
       "</style>\n",
       "<table border=\"1\" class=\"dataframe\">\n",
       "  <thead>\n",
       "    <tr style=\"text-align: right;\">\n",
       "      <th></th>\n",
       "      <th>Pclass</th>\n",
       "      <th>1</th>\n",
       "      <th>2</th>\n",
       "      <th>3</th>\n",
       "      <th>All</th>\n",
       "    </tr>\n",
       "    <tr>\n",
       "      <th>Sex</th>\n",
       "      <th>Survived</th>\n",
       "      <th></th>\n",
       "      <th></th>\n",
       "      <th></th>\n",
       "      <th></th>\n",
       "    </tr>\n",
       "  </thead>\n",
       "  <tbody>\n",
       "    <tr>\n",
       "      <th rowspan=\"2\" valign=\"top\">female</th>\n",
       "      <th>0</th>\n",
       "      <td>3</td>\n",
       "      <td>6</td>\n",
       "      <td>72</td>\n",
       "      <td>81</td>\n",
       "    </tr>\n",
       "    <tr>\n",
       "      <th>1</th>\n",
       "      <td>91</td>\n",
       "      <td>70</td>\n",
       "      <td>72</td>\n",
       "      <td>233</td>\n",
       "    </tr>\n",
       "    <tr>\n",
       "      <th rowspan=\"2\" valign=\"top\">male</th>\n",
       "      <th>0</th>\n",
       "      <td>77</td>\n",
       "      <td>91</td>\n",
       "      <td>300</td>\n",
       "      <td>468</td>\n",
       "    </tr>\n",
       "    <tr>\n",
       "      <th>1</th>\n",
       "      <td>45</td>\n",
       "      <td>17</td>\n",
       "      <td>47</td>\n",
       "      <td>109</td>\n",
       "    </tr>\n",
       "    <tr>\n",
       "      <th>All</th>\n",
       "      <th></th>\n",
       "      <td>216</td>\n",
       "      <td>184</td>\n",
       "      <td>491</td>\n",
       "      <td>891</td>\n",
       "    </tr>\n",
       "  </tbody>\n",
       "</table>\n",
       "</div>"
      ],
      "text/plain": [
       "Pclass             1    2    3  All\n",
       "Sex    Survived                    \n",
       "female 0           3    6   72   81\n",
       "       1          91   70   72  233\n",
       "male   0          77   91  300  468\n",
       "       1          45   17   47  109\n",
       "All              216  184  491  891"
      ]
     },
     "execution_count": 20,
     "metadata": {},
     "output_type": "execute_result"
    }
   ],
   "source": [
    "pd.crosstab([df.Sex,df.Survived],df.Pclass, margins= True)\n",
    "#comparing between sex , survived with Pclass\n",
    "#survival of female is very high \n",
    "#women give first priority as compare to men"
   ]
  },
  {
   "cell_type": "code",
   "execution_count": 21,
   "id": "c9fe7d48",
   "metadata": {},
   "outputs": [
    {
     "name": "stdout",
     "output_type": "stream",
     "text": [
      "Oldest Passenger was of: 80.0\n",
      "Youngest Passenger was of: 0.42\n",
      "Average Age on th ship : 29.699117647058763\n"
     ]
    }
   ],
   "source": [
    "print('Oldest Passenger was of:',df['Age'].max())\n",
    "print('Youngest Passenger was of:',df['Age'].min())\n",
    "print('Average Age on th ship :',df['Age'].mean())\n",
    "#check  max , min  and mean age comparison passenger onboard"
   ]
  },
  {
   "cell_type": "code",
   "execution_count": 22,
   "id": "45e31655",
   "metadata": {},
   "outputs": [],
   "source": [
    "df['Embarked'] = df['Embarked'].fillna(method ='pad')\n",
    "#filled null value "
   ]
  },
  {
   "cell_type": "code",
   "execution_count": 23,
   "id": "d9ac0e26",
   "metadata": {},
   "outputs": [
    {
     "data": {
      "text/plain": [
       "PassengerId    0\n",
       "Survived       0\n",
       "Pclass         0\n",
       "Name           0\n",
       "Sex            0\n",
       "Age            0\n",
       "SibSp          0\n",
       "Parch          0\n",
       "Ticket         0\n",
       "Fare           0\n",
       "Embarked       0\n",
       "dtype: int64"
      ]
     },
     "execution_count": 23,
     "metadata": {},
     "output_type": "execute_result"
    }
   ],
   "source": [
    "df.isnull().sum()\n",
    "#xhecked again if any value is there"
   ]
  },
  {
   "cell_type": "code",
   "execution_count": 24,
   "id": "50757bf6",
   "metadata": {},
   "outputs": [
    {
     "data": {
      "text/plain": [
       "<seaborn.axisgrid.FacetGrid at 0x1b149063e80>"
      ]
     },
     "execution_count": 24,
     "metadata": {},
     "output_type": "execute_result"
    },
    {
     "data": {
      "image/png": "[encoded data removed]",
      "text/plain": [
       "<Figure size 500x500 with 1 Axes>"
      ]
     },
     "metadata": {},
     "output_type": "display_data"
    }
   ],
   "source": [
    "sns.catplot(x=\"Survived\",y=\"Fare\",data=df, kind=\"box\")\n",
    "#fare difference someone paidi huge amount"
   ]
  },
  {
   "cell_type": "code",
   "execution_count": 25,
   "id": "b9ec8de0",
   "metadata": {},
   "outputs": [],
   "source": [
    "df = df.drop('Name',axis=1)\n",
    "df = df.drop('Ticket',axis=1)\n",
    "#nothing to do with name & Ticket"
   ]
  },
  {
   "cell_type": "code",
   "execution_count": 26,
   "id": "ce89e48a",
   "metadata": {},
   "outputs": [
    {
     "data": {
      "text/plain": [
       "0    0\n",
       "1    1\n",
       "2    1\n",
       "3    1\n",
       "4    0\n",
       "Name: Sex, dtype: int64"
      ]
     },
     "execution_count": 26,
     "metadata": {},
     "output_type": "execute_result"
    }
   ],
   "source": [
    "#now we need to convert sex into integer value \n",
    "d={'male':0, 'female':1}\n",
    "df['Sex']=df['Sex'].apply(lambda df:d[df])\n",
    "df['Sex'].head()"
   ]
  },
  {
   "cell_type": "code",
   "execution_count": 27,
   "id": "43e2ef0d",
   "metadata": {},
   "outputs": [],
   "source": [
    "Numerical_features= ['Survived', 'Pclass', 'SibSp', 'Parch','Age', 'Fare']\n",
    "Categorical_features = [ 'Embarked']\n",
    "#Categorical_features & Numerical_features seperate to check box plot"
   ]
  },
  {
   "cell_type": "code",
   "execution_count": 28,
   "id": "44b19a8c",
   "metadata": {},
   "outputs": [
    {
     "data": {
      "image/png": "[encoded data removed]",
      "text/plain": [
       "<Figure size 1500x2000 with 6 Axes>"
      ]
     },
     "metadata": {},
     "output_type": "display_data"
    }
   ],
   "source": [
    "plt.figure(figsize=(15,20))\n",
    "\n",
    "plotnumber = 1\n",
    "\n",
    "for c in Numerical_features:\n",
    "    if plotnumber <=10:\n",
    "        ax = plt.subplot(3,3,plotnumber)\n",
    "        sns.boxplot(data=df[c])\n",
    "        plt.xlabel(c)\n",
    "        \n",
    "    plotnumber+=1\n",
    "    \n",
    "plt.show()   \n",
    "# Identifying the outliers using boxplot in train dataset\n",
    "#We can see that continous features like age & fare contains outliers."
   ]
  },
  {
   "cell_type": "code",
   "execution_count": 29,
   "id": "c19b4830",
   "metadata": {},
   "outputs": [],
   "source": [
    "#needs tp fix outliers using IQR method\n",
    "q1 = df.quantile(0.25)\n",
    "\n",
    "q3 = df.quantile(0.75)\n",
    "\n",
    "iqr = q3 - q1"
   ]
  },
  {
   "cell_type": "code",
   "execution_count": 30,
   "id": "22431419",
   "metadata": {},
   "outputs": [
    {
     "data": {
      "text/html": [
       "<div>\n",
       "<style scoped>\n",
       "    .dataframe tbody tr th:only-of-type {\n",
       "        vertical-align: middle;\n",
       "    }\n",
       "\n",
       "    .dataframe tbody tr th {\n",
       "        vertical-align: top;\n",
       "    }\n",
       "\n",
       "    .dataframe thead th {\n",
       "        text-align: right;\n",
       "    }\n",
       "</style>\n",
       "<table border=\"1\" class=\"dataframe\">\n",
       "  <thead>\n",
       "    <tr style=\"text-align: right;\">\n",
       "      <th></th>\n",
       "      <th>index</th>\n",
       "      <th>PassengerId</th>\n",
       "      <th>Survived</th>\n",
       "      <th>Pclass</th>\n",
       "      <th>Sex</th>\n",
       "      <th>Age</th>\n",
       "      <th>SibSp</th>\n",
       "      <th>Parch</th>\n",
       "      <th>Fare</th>\n",
       "      <th>Embarked</th>\n",
       "    </tr>\n",
       "  </thead>\n",
       "  <tbody>\n",
       "    <tr>\n",
       "      <th>0</th>\n",
       "      <td>0</td>\n",
       "      <td>1</td>\n",
       "      <td>0</td>\n",
       "      <td>3</td>\n",
       "      <td>0</td>\n",
       "      <td>22.000000</td>\n",
       "      <td>1</td>\n",
       "      <td>0</td>\n",
       "      <td>7.2500</td>\n",
       "      <td>S</td>\n",
       "    </tr>\n",
       "    <tr>\n",
       "      <th>1</th>\n",
       "      <td>1</td>\n",
       "      <td>2</td>\n",
       "      <td>1</td>\n",
       "      <td>1</td>\n",
       "      <td>1</td>\n",
       "      <td>38.000000</td>\n",
       "      <td>1</td>\n",
       "      <td>0</td>\n",
       "      <td>71.2833</td>\n",
       "      <td>C</td>\n",
       "    </tr>\n",
       "    <tr>\n",
       "      <th>2</th>\n",
       "      <td>2</td>\n",
       "      <td>3</td>\n",
       "      <td>1</td>\n",
       "      <td>3</td>\n",
       "      <td>1</td>\n",
       "      <td>26.000000</td>\n",
       "      <td>0</td>\n",
       "      <td>0</td>\n",
       "      <td>7.9250</td>\n",
       "      <td>S</td>\n",
       "    </tr>\n",
       "    <tr>\n",
       "      <th>3</th>\n",
       "      <td>3</td>\n",
       "      <td>4</td>\n",
       "      <td>1</td>\n",
       "      <td>1</td>\n",
       "      <td>1</td>\n",
       "      <td>35.000000</td>\n",
       "      <td>1</td>\n",
       "      <td>0</td>\n",
       "      <td>53.1000</td>\n",
       "      <td>S</td>\n",
       "    </tr>\n",
       "    <tr>\n",
       "      <th>4</th>\n",
       "      <td>4</td>\n",
       "      <td>5</td>\n",
       "      <td>0</td>\n",
       "      <td>3</td>\n",
       "      <td>0</td>\n",
       "      <td>35.000000</td>\n",
       "      <td>0</td>\n",
       "      <td>0</td>\n",
       "      <td>8.0500</td>\n",
       "      <td>S</td>\n",
       "    </tr>\n",
       "    <tr>\n",
       "      <th>...</th>\n",
       "      <td>...</td>\n",
       "      <td>...</td>\n",
       "      <td>...</td>\n",
       "      <td>...</td>\n",
       "      <td>...</td>\n",
       "      <td>...</td>\n",
       "      <td>...</td>\n",
       "      <td>...</td>\n",
       "      <td>...</td>\n",
       "      <td>...</td>\n",
       "    </tr>\n",
       "    <tr>\n",
       "      <th>844</th>\n",
       "      <td>886</td>\n",
       "      <td>887</td>\n",
       "      <td>0</td>\n",
       "      <td>2</td>\n",
       "      <td>0</td>\n",
       "      <td>27.000000</td>\n",
       "      <td>0</td>\n",
       "      <td>0</td>\n",
       "      <td>13.0000</td>\n",
       "      <td>S</td>\n",
       "    </tr>\n",
       "    <tr>\n",
       "      <th>845</th>\n",
       "      <td>887</td>\n",
       "      <td>888</td>\n",
       "      <td>1</td>\n",
       "      <td>1</td>\n",
       "      <td>1</td>\n",
       "      <td>19.000000</td>\n",
       "      <td>0</td>\n",
       "      <td>0</td>\n",
       "      <td>30.0000</td>\n",
       "      <td>S</td>\n",
       "    </tr>\n",
       "    <tr>\n",
       "      <th>846</th>\n",
       "      <td>888</td>\n",
       "      <td>889</td>\n",
       "      <td>0</td>\n",
       "      <td>3</td>\n",
       "      <td>1</td>\n",
       "      <td>29.699118</td>\n",
       "      <td>1</td>\n",
       "      <td>2</td>\n",
       "      <td>23.4500</td>\n",
       "      <td>S</td>\n",
       "    </tr>\n",
       "    <tr>\n",
       "      <th>847</th>\n",
       "      <td>889</td>\n",
       "      <td>890</td>\n",
       "      <td>1</td>\n",
       "      <td>1</td>\n",
       "      <td>0</td>\n",
       "      <td>26.000000</td>\n",
       "      <td>0</td>\n",
       "      <td>0</td>\n",
       "      <td>30.0000</td>\n",
       "      <td>C</td>\n",
       "    </tr>\n",
       "    <tr>\n",
       "      <th>848</th>\n",
       "      <td>890</td>\n",
       "      <td>891</td>\n",
       "      <td>0</td>\n",
       "      <td>3</td>\n",
       "      <td>0</td>\n",
       "      <td>32.000000</td>\n",
       "      <td>0</td>\n",
       "      <td>0</td>\n",
       "      <td>7.7500</td>\n",
       "      <td>Q</td>\n",
       "    </tr>\n",
       "  </tbody>\n",
       "</table>\n",
       "<p>849 rows × 10 columns</p>\n",
       "</div>"
      ],
      "text/plain": [
       "     index  PassengerId  Survived  Pclass  Sex        Age  SibSp  Parch  \\\n",
       "0        0            1         0       3    0  22.000000      1      0   \n",
       "1        1            2         1       1    1  38.000000      1      0   \n",
       "2        2            3         1       3    1  26.000000      0      0   \n",
       "3        3            4         1       1    1  35.000000      1      0   \n",
       "4        4            5         0       3    0  35.000000      0      0   \n",
       "..     ...          ...       ...     ...  ...        ...    ...    ...   \n",
       "844    886          887         0       2    0  27.000000      0      0   \n",
       "845    887          888         1       1    1  19.000000      0      0   \n",
       "846    888          889         0       3    1  29.699118      1      2   \n",
       "847    889          890         1       1    0  26.000000      0      0   \n",
       "848    890          891         0       3    0  32.000000      0      0   \n",
       "\n",
       "        Fare Embarked  \n",
       "0     7.2500        S  \n",
       "1    71.2833        C  \n",
       "2     7.9250        S  \n",
       "3    53.1000        S  \n",
       "4     8.0500        S  \n",
       "..       ...      ...  \n",
       "844  13.0000        S  \n",
       "845  30.0000        S  \n",
       "846  23.4500        S  \n",
       "847  30.0000        C  \n",
       "848   7.7500        Q  \n",
       "\n",
       "[849 rows x 10 columns]"
      ]
     },
     "execution_count": 30,
     "metadata": {},
     "output_type": "execute_result"
    }
   ],
   "source": [
    "age = (q3.Age + (1.5 * iqr.Age))\n",
    "\n",
    "abc = np.where(df['Age'] > age)\n",
    "\n",
    "df = df.drop(df.index[abc])\n",
    "\n",
    "df.reset_index()\n",
    "#for age \n"
   ]
  },
  {
   "cell_type": "code",
   "execution_count": 31,
   "id": "18de8a88",
   "metadata": {},
   "outputs": [
    {
     "data": {
      "text/html": [
       "<div>\n",
       "<style scoped>\n",
       "    .dataframe tbody tr th:only-of-type {\n",
       "        vertical-align: middle;\n",
       "    }\n",
       "\n",
       "    .dataframe tbody tr th {\n",
       "        vertical-align: top;\n",
       "    }\n",
       "\n",
       "    .dataframe thead th {\n",
       "        text-align: right;\n",
       "    }\n",
       "</style>\n",
       "<table border=\"1\" class=\"dataframe\">\n",
       "  <thead>\n",
       "    <tr style=\"text-align: right;\">\n",
       "      <th></th>\n",
       "      <th>index</th>\n",
       "      <th>PassengerId</th>\n",
       "      <th>Survived</th>\n",
       "      <th>Pclass</th>\n",
       "      <th>Sex</th>\n",
       "      <th>Age</th>\n",
       "      <th>SibSp</th>\n",
       "      <th>Parch</th>\n",
       "      <th>Fare</th>\n",
       "      <th>Embarked</th>\n",
       "    </tr>\n",
       "  </thead>\n",
       "  <tbody>\n",
       "    <tr>\n",
       "      <th>0</th>\n",
       "      <td>0</td>\n",
       "      <td>1</td>\n",
       "      <td>0</td>\n",
       "      <td>3</td>\n",
       "      <td>0</td>\n",
       "      <td>22.000000</td>\n",
       "      <td>1</td>\n",
       "      <td>0</td>\n",
       "      <td>7.2500</td>\n",
       "      <td>S</td>\n",
       "    </tr>\n",
       "    <tr>\n",
       "      <th>1</th>\n",
       "      <td>2</td>\n",
       "      <td>3</td>\n",
       "      <td>1</td>\n",
       "      <td>3</td>\n",
       "      <td>1</td>\n",
       "      <td>26.000000</td>\n",
       "      <td>0</td>\n",
       "      <td>0</td>\n",
       "      <td>7.9250</td>\n",
       "      <td>S</td>\n",
       "    </tr>\n",
       "    <tr>\n",
       "      <th>2</th>\n",
       "      <td>3</td>\n",
       "      <td>4</td>\n",
       "      <td>1</td>\n",
       "      <td>1</td>\n",
       "      <td>1</td>\n",
       "      <td>35.000000</td>\n",
       "      <td>1</td>\n",
       "      <td>0</td>\n",
       "      <td>53.1000</td>\n",
       "      <td>S</td>\n",
       "    </tr>\n",
       "    <tr>\n",
       "      <th>3</th>\n",
       "      <td>4</td>\n",
       "      <td>5</td>\n",
       "      <td>0</td>\n",
       "      <td>3</td>\n",
       "      <td>0</td>\n",
       "      <td>35.000000</td>\n",
       "      <td>0</td>\n",
       "      <td>0</td>\n",
       "      <td>8.0500</td>\n",
       "      <td>S</td>\n",
       "    </tr>\n",
       "    <tr>\n",
       "      <th>4</th>\n",
       "      <td>5</td>\n",
       "      <td>6</td>\n",
       "      <td>0</td>\n",
       "      <td>3</td>\n",
       "      <td>0</td>\n",
       "      <td>29.699118</td>\n",
       "      <td>0</td>\n",
       "      <td>0</td>\n",
       "      <td>8.4583</td>\n",
       "      <td>Q</td>\n",
       "    </tr>\n",
       "    <tr>\n",
       "      <th>...</th>\n",
       "      <td>...</td>\n",
       "      <td>...</td>\n",
       "      <td>...</td>\n",
       "      <td>...</td>\n",
       "      <td>...</td>\n",
       "      <td>...</td>\n",
       "      <td>...</td>\n",
       "      <td>...</td>\n",
       "      <td>...</td>\n",
       "      <td>...</td>\n",
       "    </tr>\n",
       "    <tr>\n",
       "      <th>738</th>\n",
       "      <td>886</td>\n",
       "      <td>887</td>\n",
       "      <td>0</td>\n",
       "      <td>2</td>\n",
       "      <td>0</td>\n",
       "      <td>27.000000</td>\n",
       "      <td>0</td>\n",
       "      <td>0</td>\n",
       "      <td>13.0000</td>\n",
       "      <td>S</td>\n",
       "    </tr>\n",
       "    <tr>\n",
       "      <th>739</th>\n",
       "      <td>887</td>\n",
       "      <td>888</td>\n",
       "      <td>1</td>\n",
       "      <td>1</td>\n",
       "      <td>1</td>\n",
       "      <td>19.000000</td>\n",
       "      <td>0</td>\n",
       "      <td>0</td>\n",
       "      <td>30.0000</td>\n",
       "      <td>S</td>\n",
       "    </tr>\n",
       "    <tr>\n",
       "      <th>740</th>\n",
       "      <td>888</td>\n",
       "      <td>889</td>\n",
       "      <td>0</td>\n",
       "      <td>3</td>\n",
       "      <td>1</td>\n",
       "      <td>29.699118</td>\n",
       "      <td>1</td>\n",
       "      <td>2</td>\n",
       "      <td>23.4500</td>\n",
       "      <td>S</td>\n",
       "    </tr>\n",
       "    <tr>\n",
       "      <th>741</th>\n",
       "      <td>889</td>\n",
       "      <td>890</td>\n",
       "      <td>1</td>\n",
       "      <td>1</td>\n",
       "      <td>0</td>\n",
       "      <td>26.000000</td>\n",
       "      <td>0</td>\n",
       "      <td>0</td>\n",
       "      <td>30.0000</td>\n",
       "      <td>C</td>\n",
       "    </tr>\n",
       "    <tr>\n",
       "      <th>742</th>\n",
       "      <td>890</td>\n",
       "      <td>891</td>\n",
       "      <td>0</td>\n",
       "      <td>3</td>\n",
       "      <td>0</td>\n",
       "      <td>32.000000</td>\n",
       "      <td>0</td>\n",
       "      <td>0</td>\n",
       "      <td>7.7500</td>\n",
       "      <td>Q</td>\n",
       "    </tr>\n",
       "  </tbody>\n",
       "</table>\n",
       "<p>743 rows × 10 columns</p>\n",
       "</div>"
      ],
      "text/plain": [
       "     index  PassengerId  Survived  Pclass  Sex        Age  SibSp  Parch  \\\n",
       "0        0            1         0       3    0  22.000000      1      0   \n",
       "1        2            3         1       3    1  26.000000      0      0   \n",
       "2        3            4         1       1    1  35.000000      1      0   \n",
       "3        4            5         0       3    0  35.000000      0      0   \n",
       "4        5            6         0       3    0  29.699118      0      0   \n",
       "..     ...          ...       ...     ...  ...        ...    ...    ...   \n",
       "738    886          887         0       2    0  27.000000      0      0   \n",
       "739    887          888         1       1    1  19.000000      0      0   \n",
       "740    888          889         0       3    1  29.699118      1      2   \n",
       "741    889          890         1       1    0  26.000000      0      0   \n",
       "742    890          891         0       3    0  32.000000      0      0   \n",
       "\n",
       "        Fare Embarked  \n",
       "0     7.2500        S  \n",
       "1     7.9250        S  \n",
       "2    53.1000        S  \n",
       "3     8.0500        S  \n",
       "4     8.4583        Q  \n",
       "..       ...      ...  \n",
       "738  13.0000        S  \n",
       "739  30.0000        S  \n",
       "740  23.4500        S  \n",
       "741  30.0000        C  \n",
       "742   7.7500        Q  \n",
       "\n",
       "[743 rows x 10 columns]"
      ]
     },
     "execution_count": 31,
     "metadata": {},
     "output_type": "execute_result"
    }
   ],
   "source": [
    "fare = (q3.Fare + (1.5 * iqr.Fare))\n",
    "\n",
    "abc = np.where(df['Fare'] > fare)\n",
    "\n",
    "df = df.drop(df.index[abc])\n",
    "\n",
    "df.reset_index()\n",
    "#for fare"
   ]
  },
  {
   "cell_type": "code",
   "execution_count": 32,
   "id": "6395abac",
   "metadata": {},
   "outputs": [
    {
     "data": {
      "text/html": [
       "<div>\n",
       "<style scoped>\n",
       "    .dataframe tbody tr th:only-of-type {\n",
       "        vertical-align: middle;\n",
       "    }\n",
       "\n",
       "    .dataframe tbody tr th {\n",
       "        vertical-align: top;\n",
       "    }\n",
       "\n",
       "    .dataframe thead th {\n",
       "        text-align: right;\n",
       "    }\n",
       "</style>\n",
       "<table border=\"1\" class=\"dataframe\">\n",
       "  <thead>\n",
       "    <tr style=\"text-align: right;\">\n",
       "      <th></th>\n",
       "      <th>index</th>\n",
       "      <th>PassengerId</th>\n",
       "      <th>Survived</th>\n",
       "      <th>Pclass</th>\n",
       "      <th>Sex</th>\n",
       "      <th>Age</th>\n",
       "      <th>SibSp</th>\n",
       "      <th>Parch</th>\n",
       "      <th>Fare</th>\n",
       "      <th>Embarked</th>\n",
       "    </tr>\n",
       "  </thead>\n",
       "  <tbody>\n",
       "    <tr>\n",
       "      <th>0</th>\n",
       "      <td>0</td>\n",
       "      <td>1</td>\n",
       "      <td>0</td>\n",
       "      <td>3</td>\n",
       "      <td>0</td>\n",
       "      <td>22.000000</td>\n",
       "      <td>1</td>\n",
       "      <td>0</td>\n",
       "      <td>7.2500</td>\n",
       "      <td>S</td>\n",
       "    </tr>\n",
       "    <tr>\n",
       "      <th>1</th>\n",
       "      <td>2</td>\n",
       "      <td>3</td>\n",
       "      <td>1</td>\n",
       "      <td>3</td>\n",
       "      <td>1</td>\n",
       "      <td>26.000000</td>\n",
       "      <td>0</td>\n",
       "      <td>0</td>\n",
       "      <td>7.9250</td>\n",
       "      <td>S</td>\n",
       "    </tr>\n",
       "    <tr>\n",
       "      <th>2</th>\n",
       "      <td>3</td>\n",
       "      <td>4</td>\n",
       "      <td>1</td>\n",
       "      <td>1</td>\n",
       "      <td>1</td>\n",
       "      <td>35.000000</td>\n",
       "      <td>1</td>\n",
       "      <td>0</td>\n",
       "      <td>53.1000</td>\n",
       "      <td>S</td>\n",
       "    </tr>\n",
       "    <tr>\n",
       "      <th>3</th>\n",
       "      <td>4</td>\n",
       "      <td>5</td>\n",
       "      <td>0</td>\n",
       "      <td>3</td>\n",
       "      <td>0</td>\n",
       "      <td>35.000000</td>\n",
       "      <td>0</td>\n",
       "      <td>0</td>\n",
       "      <td>8.0500</td>\n",
       "      <td>S</td>\n",
       "    </tr>\n",
       "    <tr>\n",
       "      <th>4</th>\n",
       "      <td>5</td>\n",
       "      <td>6</td>\n",
       "      <td>0</td>\n",
       "      <td>3</td>\n",
       "      <td>0</td>\n",
       "      <td>29.699118</td>\n",
       "      <td>0</td>\n",
       "      <td>0</td>\n",
       "      <td>8.4583</td>\n",
       "      <td>Q</td>\n",
       "    </tr>\n",
       "    <tr>\n",
       "      <th>...</th>\n",
       "      <td>...</td>\n",
       "      <td>...</td>\n",
       "      <td>...</td>\n",
       "      <td>...</td>\n",
       "      <td>...</td>\n",
       "      <td>...</td>\n",
       "      <td>...</td>\n",
       "      <td>...</td>\n",
       "      <td>...</td>\n",
       "      <td>...</td>\n",
       "    </tr>\n",
       "    <tr>\n",
       "      <th>716</th>\n",
       "      <td>886</td>\n",
       "      <td>887</td>\n",
       "      <td>0</td>\n",
       "      <td>2</td>\n",
       "      <td>0</td>\n",
       "      <td>27.000000</td>\n",
       "      <td>0</td>\n",
       "      <td>0</td>\n",
       "      <td>13.0000</td>\n",
       "      <td>S</td>\n",
       "    </tr>\n",
       "    <tr>\n",
       "      <th>717</th>\n",
       "      <td>887</td>\n",
       "      <td>888</td>\n",
       "      <td>1</td>\n",
       "      <td>1</td>\n",
       "      <td>1</td>\n",
       "      <td>19.000000</td>\n",
       "      <td>0</td>\n",
       "      <td>0</td>\n",
       "      <td>30.0000</td>\n",
       "      <td>S</td>\n",
       "    </tr>\n",
       "    <tr>\n",
       "      <th>718</th>\n",
       "      <td>888</td>\n",
       "      <td>889</td>\n",
       "      <td>0</td>\n",
       "      <td>3</td>\n",
       "      <td>1</td>\n",
       "      <td>29.699118</td>\n",
       "      <td>1</td>\n",
       "      <td>2</td>\n",
       "      <td>23.4500</td>\n",
       "      <td>S</td>\n",
       "    </tr>\n",
       "    <tr>\n",
       "      <th>719</th>\n",
       "      <td>889</td>\n",
       "      <td>890</td>\n",
       "      <td>1</td>\n",
       "      <td>1</td>\n",
       "      <td>0</td>\n",
       "      <td>26.000000</td>\n",
       "      <td>0</td>\n",
       "      <td>0</td>\n",
       "      <td>30.0000</td>\n",
       "      <td>C</td>\n",
       "    </tr>\n",
       "    <tr>\n",
       "      <th>720</th>\n",
       "      <td>890</td>\n",
       "      <td>891</td>\n",
       "      <td>0</td>\n",
       "      <td>3</td>\n",
       "      <td>0</td>\n",
       "      <td>32.000000</td>\n",
       "      <td>0</td>\n",
       "      <td>0</td>\n",
       "      <td>7.7500</td>\n",
       "      <td>Q</td>\n",
       "    </tr>\n",
       "  </tbody>\n",
       "</table>\n",
       "<p>721 rows × 10 columns</p>\n",
       "</div>"
      ],
      "text/plain": [
       "     index  PassengerId  Survived  Pclass  Sex        Age  SibSp  Parch  \\\n",
       "0        0            1         0       3    0  22.000000      1      0   \n",
       "1        2            3         1       3    1  26.000000      0      0   \n",
       "2        3            4         1       1    1  35.000000      1      0   \n",
       "3        4            5         0       3    0  35.000000      0      0   \n",
       "4        5            6         0       3    0  29.699118      0      0   \n",
       "..     ...          ...       ...     ...  ...        ...    ...    ...   \n",
       "716    886          887         0       2    0  27.000000      0      0   \n",
       "717    887          888         1       1    1  19.000000      0      0   \n",
       "718    888          889         0       3    1  29.699118      1      2   \n",
       "719    889          890         1       1    0  26.000000      0      0   \n",
       "720    890          891         0       3    0  32.000000      0      0   \n",
       "\n",
       "        Fare Embarked  \n",
       "0     7.2500        S  \n",
       "1     7.9250        S  \n",
       "2    53.1000        S  \n",
       "3     8.0500        S  \n",
       "4     8.4583        Q  \n",
       "..       ...      ...  \n",
       "716  13.0000        S  \n",
       "717  30.0000        S  \n",
       "718  23.4500        S  \n",
       "719  30.0000        C  \n",
       "720   7.7500        Q  \n",
       "\n",
       "[721 rows x 10 columns]"
      ]
     },
     "execution_count": 32,
     "metadata": {},
     "output_type": "execute_result"
    }
   ],
   "source": [
    "age = (q1.Age -(1.5 * iqr.Age))\n",
    "\n",
    "abc= np.where(df['Age'] < age)\n",
    "\n",
    "df = df.drop(df.index[abc])\n",
    "\n",
    "df.reset_index()\n",
    "# this is for age but for lower side min side alos the outlier needs to trest that as well"
   ]
  },
  {
   "cell_type": "code",
   "execution_count": 33,
   "id": "0cd6fbb3",
   "metadata": {},
   "outputs": [
    {
     "data": {
      "image/png": "[encoded data removed]",
      "text/plain": [
       "<Figure size 1500x2000 with 6 Axes>"
      ]
     },
     "metadata": {},
     "output_type": "display_data"
    }
   ],
   "source": [
    "plt.figure(figsize=(15,20))\n",
    "\n",
    "plotnumber = 1\n",
    "\n",
    "for c in Numerical_features:\n",
    "    if plotnumber <=10:\n",
    "        ax = plt.subplot(3,3,plotnumber)\n",
    "        sns.boxplot(data=df[c])\n",
    "        plt.xlabel(c)\n",
    "        \n",
    "    plotnumber+=1\n",
    "    \n",
    "plt.show()  \n",
    "#now many outliers has been removed not complterly but few left"
   ]
  },
  {
   "cell_type": "code",
   "execution_count": 34,
   "id": "0f1989cb",
   "metadata": {},
   "outputs": [
    {
     "data": {
      "image/png": "[encoded data removed]",
      "text/plain": [
       "<Figure size 1400x800 with 2 Axes>"
      ]
     },
     "metadata": {},
     "output_type": "display_data"
    }
   ],
   "source": [
    "df_corr = df.corr().abs()\n",
    "\n",
    "plt.figure(figsize=(14,8))\n",
    "sns.heatmap(df_corr,annot=True)\n",
    "plt.show()\n",
    "#check correlation between them pclass and fare\n",
    "#check correlation between them Suvived and sex\n"
   ]
  },
  {
   "cell_type": "code",
   "execution_count": 35,
   "id": "fcab9bbc",
   "metadata": {},
   "outputs": [
    {
     "data": {
      "text/plain": [
       "(721, 9)"
      ]
     },
     "execution_count": 35,
     "metadata": {},
     "output_type": "execute_result"
    }
   ],
   "source": [
    "df.shape\n",
    "#the shape of Data Set is 721 rows and 10 columns"
   ]
  },
  {
   "cell_type": "code",
   "execution_count": 36,
   "id": "169bad7a",
   "metadata": {},
   "outputs": [
    {
     "data": {
      "text/html": [
       "<div>\n",
       "<style scoped>\n",
       "    .dataframe tbody tr th:only-of-type {\n",
       "        vertical-align: middle;\n",
       "    }\n",
       "\n",
       "    .dataframe tbody tr th {\n",
       "        vertical-align: top;\n",
       "    }\n",
       "\n",
       "    .dataframe thead th {\n",
       "        text-align: right;\n",
       "    }\n",
       "</style>\n",
       "<table border=\"1\" class=\"dataframe\">\n",
       "  <thead>\n",
       "    <tr style=\"text-align: right;\">\n",
       "      <th></th>\n",
       "      <th>PassengerId</th>\n",
       "      <th>Survived</th>\n",
       "      <th>Pclass</th>\n",
       "      <th>Sex</th>\n",
       "      <th>Age</th>\n",
       "      <th>SibSp</th>\n",
       "      <th>Parch</th>\n",
       "      <th>Fare</th>\n",
       "      <th>Embarked</th>\n",
       "    </tr>\n",
       "  </thead>\n",
       "  <tbody>\n",
       "    <tr>\n",
       "      <th>0</th>\n",
       "      <td>1</td>\n",
       "      <td>0</td>\n",
       "      <td>3</td>\n",
       "      <td>0</td>\n",
       "      <td>22.000000</td>\n",
       "      <td>1</td>\n",
       "      <td>0</td>\n",
       "      <td>7.2500</td>\n",
       "      <td>2</td>\n",
       "    </tr>\n",
       "    <tr>\n",
       "      <th>2</th>\n",
       "      <td>3</td>\n",
       "      <td>1</td>\n",
       "      <td>3</td>\n",
       "      <td>1</td>\n",
       "      <td>26.000000</td>\n",
       "      <td>0</td>\n",
       "      <td>0</td>\n",
       "      <td>7.9250</td>\n",
       "      <td>2</td>\n",
       "    </tr>\n",
       "    <tr>\n",
       "      <th>3</th>\n",
       "      <td>4</td>\n",
       "      <td>1</td>\n",
       "      <td>1</td>\n",
       "      <td>1</td>\n",
       "      <td>35.000000</td>\n",
       "      <td>1</td>\n",
       "      <td>0</td>\n",
       "      <td>53.1000</td>\n",
       "      <td>2</td>\n",
       "    </tr>\n",
       "    <tr>\n",
       "      <th>4</th>\n",
       "      <td>5</td>\n",
       "      <td>0</td>\n",
       "      <td>3</td>\n",
       "      <td>0</td>\n",
       "      <td>35.000000</td>\n",
       "      <td>0</td>\n",
       "      <td>0</td>\n",
       "      <td>8.0500</td>\n",
       "      <td>2</td>\n",
       "    </tr>\n",
       "    <tr>\n",
       "      <th>5</th>\n",
       "      <td>6</td>\n",
       "      <td>0</td>\n",
       "      <td>3</td>\n",
       "      <td>0</td>\n",
       "      <td>29.699118</td>\n",
       "      <td>0</td>\n",
       "      <td>0</td>\n",
       "      <td>8.4583</td>\n",
       "      <td>1</td>\n",
       "    </tr>\n",
       "  </tbody>\n",
       "</table>\n",
       "</div>"
      ],
      "text/plain": [
       "   PassengerId  Survived  Pclass  Sex        Age  SibSp  Parch     Fare  \\\n",
       "0            1         0       3    0  22.000000      1      0   7.2500   \n",
       "2            3         1       3    1  26.000000      0      0   7.9250   \n",
       "3            4         1       1    1  35.000000      1      0  53.1000   \n",
       "4            5         0       3    0  35.000000      0      0   8.0500   \n",
       "5            6         0       3    0  29.699118      0      0   8.4583   \n",
       "\n",
       "   Embarked  \n",
       "0         2  \n",
       "2         2  \n",
       "3         2  \n",
       "4         2  \n",
       "5         1  "
      ]
     },
     "execution_count": 36,
     "metadata": {},
     "output_type": "execute_result"
    }
   ],
   "source": [
    "# Using Label encoder for transforming Categorical data\n",
    "#first we have done with another technique now done with another technique\n",
    "from sklearn.preprocessing import LabelEncoder\n",
    "le = LabelEncoder()\n",
    "for i in Categorical_features:\n",
    "    df[i] = le.fit_transform(df[i])\n",
    "df.head()"
   ]
  },
  {
   "cell_type": "code",
   "execution_count": 37,
   "id": "31e97b41",
   "metadata": {},
   "outputs": [],
   "source": [
    "# Splitting data in target and dependent feature\n",
    "X = df.drop(['Survived'], axis =1)\n",
    "Y = df['Survived']"
   ]
  },
  {
   "cell_type": "code",
   "execution_count": 38,
   "id": "cb3a97e7",
   "metadata": {},
   "outputs": [],
   "source": [
    "scaler = StandardScaler()\n",
    "x_scale = scaler.fit_transform(X)"
   ]
  },
  {
   "cell_type": "code",
   "execution_count": 52,
   "id": "614f874e",
   "metadata": {},
   "outputs": [],
   "source": [
    "\n",
    "#Importing Machine learning Model library\n",
    "from sklearn.linear_model import LogisticRegression\n",
    "from sklearn.tree import DecisionTreeClassifier\n",
    "from sklearn.neighbors import KNeighborsClassifier\n",
    "from sklearn.ensemble import RandomForestClassifier\n",
    "from sklearn.ensemble import AdaBoostClassifier\n",
    "from sklearn.ensemble import GradientBoostingClassifier\n",
    "from sklearn.model_selection import train_test_split,cross_val_score\n",
    "from sklearn.metrics import confusion_matrix,classification_report,accuracy_score"
   ]
  },
  {
   "cell_type": "code",
   "execution_count": 53,
   "id": "3353cec5",
   "metadata": {},
   "outputs": [],
   "source": [
    "#train test split\n",
    "x_train, x_test, y_train, y_test = train_test_split(x_scale, Y, test_size=0.3, random_state=42)"
   ]
  },
  {
   "cell_type": "code",
   "execution_count": 54,
   "id": "eb6c1a96",
   "metadata": {},
   "outputs": [],
   "source": [
    "# defined a funcution \n",
    "def metric_score(clf,x_train,x_test,y_train,y_test,train = True):\n",
    "    if train:\n",
    "        y_pred = clf.predict(x_train)\n",
    "        \n",
    "        \n",
    "        print('============trainresult===============')\n",
    "        \n",
    "        print(f'accuracy_score{accuracy_score(y_train,y_pred) *  100:.2f}%' )\n",
    "        \n",
    "    elif train == False:\n",
    "        \n",
    "        pred = clf.predict(x_test)\n",
    "        \n",
    "        print('============testresult===============')\n",
    "        \n",
    "        print(f'accurcy {accuracy_score(y_test,pred)* 100:.2f}%')\n",
    "        \n",
    "        print(classification_report(y_test,pred,digits = 2))"
   ]
  },
  {
   "cell_type": "code",
   "execution_count": 55,
   "id": "ff5132c4",
   "metadata": {},
   "outputs": [
    {
     "data": {
      "text/plain": [
       "LogisticRegression()"
      ]
     },
     "execution_count": 55,
     "metadata": {},
     "output_type": "execute_result"
    }
   ],
   "source": [
    "log = LogisticRegression()\n",
    "\n",
    "log.fit(x_train,y_train)\n"
   ]
  },
  {
   "cell_type": "code",
   "execution_count": 56,
   "id": "ab1f517f",
   "metadata": {},
   "outputs": [
    {
     "data": {
      "text/plain": [
       "array([[0.19879436, 0.80120564],\n",
       "       [0.39409026, 0.60590974],\n",
       "       [0.93329491, 0.06670509],\n",
       "       [0.86664808, 0.13335192],\n",
       "       [0.79883268, 0.20116732],\n",
       "       [0.51715744, 0.48284256],\n",
       "       [0.31215917, 0.68784083],\n",
       "       [0.45367715, 0.54632285],\n",
       "       [0.61857334, 0.38142666],\n",
       "       [0.52756447, 0.47243553],\n",
       "       [0.90237466, 0.09762534],\n",
       "       [0.78502195, 0.21497805],\n",
       "       [0.42789987, 0.57210013],\n",
       "       [0.89231833, 0.10768167],\n",
       "       [0.56912436, 0.43087564],\n",
       "       [0.83946552, 0.16053448],\n",
       "       [0.33011968, 0.66988032],\n",
       "       [0.89161492, 0.10838508],\n",
       "       [0.7880786 , 0.2119214 ],\n",
       "       [0.40565788, 0.59434212],\n",
       "       [0.54178113, 0.45821887],\n",
       "       [0.8869231 , 0.1130769 ],\n",
       "       [0.83807059, 0.16192941],\n",
       "       [0.71440131, 0.28559869],\n",
       "       [0.35970599, 0.64029401],\n",
       "       [0.8886962 , 0.1113038 ],\n",
       "       [0.97149985, 0.02850015],\n",
       "       [0.20254706, 0.79745294],\n",
       "       [0.77129506, 0.22870494],\n",
       "       [0.88839321, 0.11160679],\n",
       "       [0.89247282, 0.10752718],\n",
       "       [0.39049415, 0.60950585],\n",
       "       [0.15245837, 0.84754163],\n",
       "       [0.23322583, 0.76677417],\n",
       "       [0.18322818, 0.81677182],\n",
       "       [0.88744848, 0.11255152],\n",
       "       [0.94519317, 0.05480683],\n",
       "       [0.91480866, 0.08519134],\n",
       "       [0.88154352, 0.11845648],\n",
       "       [0.89259628, 0.10740372],\n",
       "       [0.8645083 , 0.1354917 ],\n",
       "       [0.89524908, 0.10475092],\n",
       "       [0.55041701, 0.44958299],\n",
       "       [0.90567381, 0.09432619],\n",
       "       [0.85995337, 0.14004663],\n",
       "       [0.87259585, 0.12740415],\n",
       "       [0.82763135, 0.17236865],\n",
       "       [0.90585841, 0.09414159],\n",
       "       [0.20895109, 0.79104891],\n",
       "       [0.87557069, 0.12442931],\n",
       "       [0.56325714, 0.43674286],\n",
       "       [0.87846811, 0.12153189],\n",
       "       [0.3358455 , 0.6641545 ],\n",
       "       [0.87744558, 0.12255442],\n",
       "       [0.80380378, 0.19619622],\n",
       "       [0.31978751, 0.68021249],\n",
       "       [0.81265135, 0.18734865],\n",
       "       [0.87693322, 0.12306678],\n",
       "       [0.16468548, 0.83531452],\n",
       "       [0.37070834, 0.62929166],\n",
       "       [0.26359133, 0.73640867],\n",
       "       [0.26700846, 0.73299154],\n",
       "       [0.86965592, 0.13034408],\n",
       "       [0.23181717, 0.76818283],\n",
       "       [0.0597545 , 0.9402455 ],\n",
       "       [0.89206784, 0.10793216],\n",
       "       [0.83549224, 0.16450776],\n",
       "       [0.87587555, 0.12412445],\n",
       "       [0.45018104, 0.54981896],\n",
       "       [0.651808  , 0.348192  ],\n",
       "       [0.66055719, 0.33944281],\n",
       "       [0.37344306, 0.62655694],\n",
       "       [0.06526485, 0.93473515],\n",
       "       [0.65543235, 0.34456765],\n",
       "       [0.90344147, 0.09655853],\n",
       "       [0.85857318, 0.14142682],\n",
       "       [0.37014085, 0.62985915],\n",
       "       [0.87175628, 0.12824372],\n",
       "       [0.66378705, 0.33621295],\n",
       "       [0.38753685, 0.61246315],\n",
       "       [0.37611613, 0.62388387],\n",
       "       [0.27639213, 0.72360787],\n",
       "       [0.6446075 , 0.3553925 ],\n",
       "       [0.89873726, 0.10126274],\n",
       "       [0.89931537, 0.10068463],\n",
       "       [0.18810767, 0.81189233],\n",
       "       [0.57407224, 0.42592776],\n",
       "       [0.28815085, 0.71184915],\n",
       "       [0.3651967 , 0.6348033 ],\n",
       "       [0.81871686, 0.18128314],\n",
       "       [0.57442135, 0.42557865],\n",
       "       [0.93927026, 0.06072974],\n",
       "       [0.87452781, 0.12547219],\n",
       "       [0.85327565, 0.14672435],\n",
       "       [0.85657799, 0.14342201],\n",
       "       [0.87811585, 0.12188415],\n",
       "       [0.8957777 , 0.1042223 ],\n",
       "       [0.83729991, 0.16270009],\n",
       "       [0.8951454 , 0.1048546 ],\n",
       "       [0.03947505, 0.96052495],\n",
       "       [0.91564571, 0.08435429],\n",
       "       [0.22503122, 0.77496878],\n",
       "       [0.46021211, 0.53978789],\n",
       "       [0.06344696, 0.93655304],\n",
       "       [0.88432978, 0.11567022],\n",
       "       [0.88488494, 0.11511506],\n",
       "       [0.87743165, 0.12256835],\n",
       "       [0.89568249, 0.10431751],\n",
       "       [0.78685861, 0.21314139],\n",
       "       [0.12969517, 0.87030483],\n",
       "       [0.92354452, 0.07645548],\n",
       "       [0.93378255, 0.06621745],\n",
       "       [0.54506641, 0.45493359],\n",
       "       [0.88984136, 0.11015864],\n",
       "       [0.90061439, 0.09938561],\n",
       "       [0.2918601 , 0.7081399 ],\n",
       "       [0.02175805, 0.97824195],\n",
       "       [0.87911031, 0.12088969],\n",
       "       [0.49592124, 0.50407876],\n",
       "       [0.67678675, 0.32321325],\n",
       "       [0.33411497, 0.66588503],\n",
       "       [0.90980363, 0.09019637],\n",
       "       [0.27509002, 0.72490998],\n",
       "       [0.8978297 , 0.1021703 ],\n",
       "       [0.63861225, 0.36138775],\n",
       "       [0.86387461, 0.13612539],\n",
       "       [0.28200792, 0.71799208],\n",
       "       [0.90257001, 0.09742999],\n",
       "       [0.18262406, 0.81737594],\n",
       "       [0.40582358, 0.59417642],\n",
       "       [0.45009556, 0.54990444],\n",
       "       [0.68559002, 0.31440998],\n",
       "       [0.87524958, 0.12475042],\n",
       "       [0.66957068, 0.33042932],\n",
       "       [0.87511827, 0.12488173],\n",
       "       [0.85302838, 0.14697162],\n",
       "       [0.87033249, 0.12966751],\n",
       "       [0.89171891, 0.10828109],\n",
       "       [0.67301178, 0.32698822],\n",
       "       [0.51230712, 0.48769288],\n",
       "       [0.85258999, 0.14741001],\n",
       "       [0.85136087, 0.14863913],\n",
       "       [0.62515106, 0.37484894],\n",
       "       [0.51097625, 0.48902375],\n",
       "       [0.84739966, 0.15260034],\n",
       "       [0.89960445, 0.10039555],\n",
       "       [0.22774707, 0.77225293],\n",
       "       [0.91577037, 0.08422963],\n",
       "       [0.08788174, 0.91211826],\n",
       "       [0.31510673, 0.68489327],\n",
       "       [0.9278881 , 0.0721119 ],\n",
       "       [0.86736108, 0.13263892],\n",
       "       [0.80647678, 0.19352322],\n",
       "       [0.92336222, 0.07663778],\n",
       "       [0.58433978, 0.41566022],\n",
       "       [0.45974804, 0.54025196],\n",
       "       [0.9462387 , 0.0537613 ],\n",
       "       [0.66647123, 0.33352877],\n",
       "       [0.74356657, 0.25643343],\n",
       "       [0.85015653, 0.14984347],\n",
       "       [0.91688682, 0.08311318],\n",
       "       [0.46944384, 0.53055616],\n",
       "       [0.87156181, 0.12843819],\n",
       "       [0.87743342, 0.12256658],\n",
       "       [0.96382913, 0.03617087],\n",
       "       [0.86507159, 0.13492841],\n",
       "       [0.03938054, 0.96061946],\n",
       "       [0.75584692, 0.24415308],\n",
       "       [0.39969516, 0.60030484],\n",
       "       [0.40119687, 0.59880313],\n",
       "       [0.95739945, 0.04260055],\n",
       "       [0.81342342, 0.18657658],\n",
       "       [0.86987107, 0.13012893],\n",
       "       [0.36636659, 0.63363341],\n",
       "       [0.10472206, 0.89527794],\n",
       "       [0.89832739, 0.10167261],\n",
       "       [0.91094009, 0.08905991],\n",
       "       [0.89301885, 0.10698115],\n",
       "       [0.43728004, 0.56271996],\n",
       "       [0.93136996, 0.06863004],\n",
       "       [0.91214359, 0.08785641],\n",
       "       [0.91213529, 0.08786471],\n",
       "       [0.39512473, 0.60487527],\n",
       "       [0.88061188, 0.11938812],\n",
       "       [0.7688077 , 0.2311923 ],\n",
       "       [0.8855893 , 0.1144107 ],\n",
       "       [0.46240602, 0.53759398],\n",
       "       [0.46153044, 0.53846956],\n",
       "       [0.30744896, 0.69255104],\n",
       "       [0.2890293 , 0.7109707 ],\n",
       "       [0.34434466, 0.65565534],\n",
       "       [0.76836451, 0.23163549],\n",
       "       [0.4234563 , 0.5765437 ],\n",
       "       [0.50255756, 0.49744244],\n",
       "       [0.87177817, 0.12822183],\n",
       "       [0.22846991, 0.77153009],\n",
       "       [0.89815668, 0.10184332],\n",
       "       [0.92037112, 0.07962888],\n",
       "       [0.94069523, 0.05930477],\n",
       "       [0.63530214, 0.36469786],\n",
       "       [0.87459989, 0.12540011],\n",
       "       [0.78251776, 0.21748224],\n",
       "       [0.43193921, 0.56806079],\n",
       "       [0.93420413, 0.06579587],\n",
       "       [0.37784315, 0.62215685],\n",
       "       [0.86624073, 0.13375927],\n",
       "       [0.0468453 , 0.9531547 ],\n",
       "       [0.91071522, 0.08928478],\n",
       "       [0.41544798, 0.58455202],\n",
       "       [0.36140064, 0.63859936],\n",
       "       [0.37061753, 0.62938247],\n",
       "       [0.89338077, 0.10661923],\n",
       "       [0.95748831, 0.04251169],\n",
       "       [0.90711853, 0.09288147],\n",
       "       [0.93915261, 0.06084739],\n",
       "       [0.75325621, 0.24674379],\n",
       "       [0.82444967, 0.17555033]])"
      ]
     },
     "execution_count": 56,
     "metadata": {},
     "output_type": "execute_result"
    }
   ],
   "source": [
    "y_pred = log.predict_proba(x_test)\n",
    "y_pred"
   ]
  },
  {
   "cell_type": "code",
   "execution_count": 74,
   "id": "2c7096fa",
   "metadata": {},
   "outputs": [
    {
     "name": "stdout",
     "output_type": "stream",
     "text": [
      "Cross Validation Score: 77.81226053639847\n"
     ]
    }
   ],
   "source": [
    "cv_score = (cross_val_score(reg, X, Y, cv=5).mean())*100\n",
    "print(\"Cross Validation Score:\", cv_score)\n",
    "#cross validation score check   "
   ]
  },
  {
   "cell_type": "code",
   "execution_count": 57,
   "id": "c4392eff",
   "metadata": {},
   "outputs": [
    {
     "name": "stdout",
     "output_type": "stream",
     "text": [
      "============trainresult===============\n",
      "accuracy_score79.17%\n",
      "============testresult===============\n",
      "accurcy 81.11%\n",
      "              precision    recall  f1-score   support\n",
      "\n",
      "           0       0.85      0.87      0.86       143\n",
      "           1       0.73      0.70      0.72        74\n",
      "\n",
      "    accuracy                           0.81       217\n",
      "   macro avg       0.79      0.78      0.79       217\n",
      "weighted avg       0.81      0.81      0.81       217\n",
      "\n"
     ]
    }
   ],
   "source": [
    "metric_score(log,x_train,x_test,y_train,y_test,train = True)\n",
    "metric_score(log,x_train,x_test,y_train,y_test,train = False)"
   ]
  },
  {
   "cell_type": "code",
   "execution_count": 59,
   "id": "ea00b27b",
   "metadata": {},
   "outputs": [
    {
     "name": "stdout",
     "output_type": "stream",
     "text": [
      "============trainresult===============\n",
      "accuracy_score100.00%\n",
      "============testresult===============\n",
      "accurcy 76.50%\n",
      "              precision    recall  f1-score   support\n",
      "\n",
      "           0       0.82      0.83      0.82       143\n",
      "           1       0.66      0.65      0.65        74\n",
      "\n",
      "    accuracy                           0.76       217\n",
      "   macro avg       0.74      0.74      0.74       217\n",
      "weighted avg       0.76      0.76      0.76       217\n",
      "\n"
     ]
    }
   ],
   "source": [
    "#DecisionTreeClassifier model\n",
    "clf = DecisionTreeClassifier()\n",
    "clf.fit(x_train,y_train)\n",
    "metric_score(clf,x_train,x_test,y_train,y_test,train = True)\n",
    "metric_score(clf,x_train,x_test,y_train,y_test,train = False)"
   ]
  },
  {
   "cell_type": "code",
   "execution_count": 61,
   "id": "268ddfd6",
   "metadata": {},
   "outputs": [],
   "source": [
    "#import necessary liabariers\n",
    "from sklearn.model_selection import cross_val_score\n",
    "from sklearn.model_selection import GridSearchCV"
   ]
  },
  {
   "cell_type": "code",
   "execution_count": 62,
   "id": "a71bb73d",
   "metadata": {},
   "outputs": [],
   "source": [
    "#hyper parameter tunning \n",
    "grid_params = {'criterion':['gini','entropy'],\n",
    "              'max_depth':range(12,15),\n",
    "              'min_samples_leaf':range(4,6),\n",
    "              'min_samples_split':range(3,5),\n",
    "              'max_leaf_nodes':range(5,10)}\n",
    "\n",
    "grid = GridSearchCV(estimator=clf,\n",
    "                   param_grid = grid_params,\n",
    "                   cv = 5)\n"
   ]
  },
  {
   "cell_type": "code",
   "execution_count": 64,
   "id": "265f1142",
   "metadata": {},
   "outputs": [
    {
     "data": {
      "text/plain": [
       "{'criterion': 'gini',\n",
       " 'max_depth': 12,\n",
       " 'max_leaf_nodes': 9,\n",
       " 'min_samples_leaf': 4,\n",
       " 'min_samples_split': 4}"
      ]
     },
     "execution_count": 64,
     "metadata": {},
     "output_type": "execute_result"
    }
   ],
   "source": [
    "#time to train the data for best paraam and get best out of it\n",
    "grid.fit(x_train,y_train)\n",
    "best = grid.best_params_\n",
    "best"
   ]
  },
  {
   "cell_type": "code",
   "execution_count": 66,
   "id": "006e3320",
   "metadata": {},
   "outputs": [
    {
     "data": {
      "text/plain": [
       "DecisionTreeClassifier(max_depth=12, max_leaf_nodes=9, min_samples_leaf=4,\n",
       "                       min_samples_split=4)"
      ]
     },
     "execution_count": 66,
     "metadata": {},
     "output_type": "execute_result"
    }
   ],
   "source": [
    "clf = DecisionTreeClassifier(criterion= 'gini', max_depth= 12,max_leaf_nodes=9 ,min_samples_leaf= 4,min_samples_split=4)\n",
    "\n",
    "clf.fit(x_train,y_train)\n",
    "#best params and traning data "
   ]
  },
  {
   "cell_type": "code",
   "execution_count": 68,
   "id": "e273a742",
   "metadata": {},
   "outputs": [
    {
     "name": "stdout",
     "output_type": "stream",
     "text": [
      "============trainresult===============\n",
      "accuracy_score83.53%\n",
      "============testresult===============\n",
      "accurcy 82.03%\n",
      "              precision    recall  f1-score   support\n",
      "\n",
      "           0       0.87      0.86      0.86       143\n",
      "           1       0.73      0.74      0.74        74\n",
      "\n",
      "    accuracy                           0.82       217\n",
      "   macro avg       0.80      0.80      0.80       217\n",
      "weighted avg       0.82      0.82      0.82       217\n",
      "\n"
     ]
    }
   ],
   "source": [
    "metric_score(clf,x_train,x_test,y_train,y_test,train = True)\n",
    "metric_score(clf,x_train,x_test,y_train,y_test,train = False)\n",
    "#afterbest params result got better"
   ]
  },
  {
   "cell_type": "code",
   "execution_count": 70,
   "id": "d0354158",
   "metadata": {},
   "outputs": [
    {
     "name": "stdout",
     "output_type": "stream",
     "text": [
      "Cross Validation Score: 79.61015325670499\n"
     ]
    }
   ],
   "source": [
    "cv_score = (cross_val_score(clf, X, Y, cv=5).mean())*100\n",
    "print(\"Cross Validation Score:\", cv_score)\n",
    "#cross validation score check   \n"
   ]
  },
  {
   "cell_type": "code",
   "execution_count": 76,
   "id": "cae776d0",
   "metadata": {},
   "outputs": [
    {
     "name": "stdout",
     "output_type": "stream",
     "text": [
      "============trainresult===============\n",
      "accuracy_score100.00%\n",
      "============testresult===============\n",
      "accurcy 82.49%\n",
      "              precision    recall  f1-score   support\n",
      "\n",
      "           0       0.84      0.90      0.87       143\n",
      "           1       0.78      0.68      0.72        74\n",
      "\n",
      "    accuracy                           0.82       217\n",
      "   macro avg       0.81      0.79      0.80       217\n",
      "weighted avg       0.82      0.82      0.82       217\n",
      "\n"
     ]
    }
   ],
   "source": [
    "#RandomForestClassifier model\n",
    "RFC = RandomForestClassifier()\n",
    "RFC.fit(x_train,y_train)\n",
    "metric_score(RFC,x_train,x_test,y_train,y_test,train = True)\n",
    "metric_score(RFC,x_train,x_test,y_train,y_test,train = False)\n",
    "#Created the Random Forest Classifier Model and checked for it's evaluation metrics."
   ]
  },
  {
   "cell_type": "code",
   "execution_count": 78,
   "id": "5ae9f0f7",
   "metadata": {},
   "outputs": [
    {
     "name": "stdout",
     "output_type": "stream",
     "text": [
      "Cross Validation Score: 81.97413793103448\n"
     ]
    }
   ],
   "source": [
    "cv_score = (cross_val_score(RFC, X, Y, cv=5).mean())*100\n",
    "print(\"Cross Validation Score:\", cv_score)\n",
    "#cross validation score check  "
   ]
  },
  {
   "cell_type": "code",
   "execution_count": 79,
   "id": "c9a471bd",
   "metadata": {},
   "outputs": [
    {
     "name": "stdout",
     "output_type": "stream",
     "text": [
      "============trainresult===============\n",
      "accuracy_score82.94%\n",
      "============testresult===============\n",
      "accurcy 81.57%\n",
      "              precision    recall  f1-score   support\n",
      "\n",
      "           0       0.83      0.90      0.87       143\n",
      "           1       0.77      0.65      0.71        74\n",
      "\n",
      "    accuracy                           0.82       217\n",
      "   macro avg       0.80      0.78      0.79       217\n",
      "weighted avg       0.81      0.82      0.81       217\n",
      "\n"
     ]
    }
   ],
   "source": [
    "# KNeighborsClassifier model\n",
    "KNC = KNeighborsClassifier(n_neighbors=15)\n",
    "KNC.fit(x_train,y_train)\n",
    "metric_score(KNC,x_train,x_test,y_train,y_test,train = True)\n",
    "metric_score(KNC,x_train,x_test,y_train,y_test,train = False)\n",
    "#Created the K Neighbors Classifier Model and checked for it's evaluation metrics.\n",
    "# tried with many numbers n_neighbors but getting best accurancy with !% hence done ith that"
   ]
  },
  {
   "cell_type": "code",
   "execution_count": 84,
   "id": "f8689285",
   "metadata": {},
   "outputs": [
    {
     "data": {
      "text/plain": [
       "{'algorithm': 'kd_tree', 'leaf_size': 3, 'n_neighbors': 7}"
      ]
     },
     "execution_count": 84,
     "metadata": {},
     "output_type": "execute_result"
    }
   ],
   "source": [
    "#hyper parameter traning\n",
    "param = {'algorithm': ['kd_tree','brute'],\n",
    "        'leaf_size':[3,4,5,6,7,9],\n",
    "        'n_neighbors' : [2,3,4,5,6,7]\n",
    "        }\n",
    "grid = GridSearchCV(estimator = KNC,param_grid=param)\n",
    "grid.fit(x_train,y_train)\n",
    "grid.best_params_"
   ]
  },
  {
   "cell_type": "code",
   "execution_count": 85,
   "id": "9f7ca5a9",
   "metadata": {},
   "outputs": [
    {
     "data": {
      "text/plain": [
       "KNeighborsClassifier(algorithm='kd_tree', leaf_size=3, n_neighbors=7)"
      ]
     },
     "execution_count": 85,
     "metadata": {},
     "output_type": "execute_result"
    }
   ],
   "source": [
    "#best tuning\n",
    "knn = KNeighborsClassifier(algorithm = 'kd_tree', leaf_size=3, n_neighbors= 7)\n",
    "\n",
    "knn.fit(x_train,y_train)"
   ]
  },
  {
   "cell_type": "code",
   "execution_count": 86,
   "id": "83ff2d3c",
   "metadata": {},
   "outputs": [
    {
     "name": "stdout",
     "output_type": "stream",
     "text": [
      "============testresult===============\n",
      "accurcy 80.65%\n",
      "              precision    recall  f1-score   support\n",
      "\n",
      "           0       0.82      0.90      0.86       143\n",
      "           1       0.77      0.62      0.69        74\n",
      "\n",
      "    accuracy                           0.81       217\n",
      "   macro avg       0.79      0.76      0.77       217\n",
      "weighted avg       0.80      0.81      0.80       217\n",
      "\n",
      "============trainresult===============\n",
      "accuracy_score83.93%\n"
     ]
    }
   ],
   "source": [
    "metric_score(knn,x_train,x_test,y_train,y_test,train=False)\n",
    "\n",
    "metric_score(knn,x_train,x_test,y_train,y_test,train=True)"
   ]
  },
  {
   "cell_type": "code",
   "execution_count": 88,
   "id": "003b4ab1",
   "metadata": {},
   "outputs": [
    {
     "name": "stdout",
     "output_type": "stream",
     "text": [
      "============trainresult===============\n",
      "accuracy_score91.47%\n",
      "============testresult===============\n",
      "accurcy 82.95%\n",
      "              precision    recall  f1-score   support\n",
      "\n",
      "           0       0.84      0.91      0.88       143\n",
      "           1       0.79      0.68      0.73        74\n",
      "\n",
      "    accuracy                           0.83       217\n",
      "   macro avg       0.82      0.79      0.80       217\n",
      "weighted avg       0.83      0.83      0.83       217\n",
      "\n"
     ]
    }
   ],
   "source": [
    "# GradientBoostingClassifier model\n",
    "from sklearn.ensemble import GradientBoostingClassifier\n",
    "GBC = GradientBoostingClassifier()\n",
    "GBC.fit(x_train,y_train)\n",
    "metric_score(GBC,x_train,x_test,y_train,y_test,train = True)\n",
    "metric_score(GBC,x_train,x_test,y_train,y_test,train = False)\n",
    "##Created the GradientBoostingClassifier "
   ]
  },
  {
   "cell_type": "code",
   "execution_count": 90,
   "id": "2c4b95a2",
   "metadata": {},
   "outputs": [
    {
     "name": "stdout",
     "output_type": "stream",
     "text": [
      "Cross Validation Score: 79.20977011494253\n"
     ]
    }
   ],
   "source": [
    "cv_score = (cross_val_score(GBC, X, Y, cv=5).mean())*100\n",
    "print(\"Cross Validation Score:\", cv_score)\n",
    "#cross validation score check  "
   ]
  },
  {
   "cell_type": "code",
   "execution_count": 92,
   "id": "f07bf0ab",
   "metadata": {},
   "outputs": [
    {
     "name": "stdout",
     "output_type": "stream",
     "text": [
      "============trainresult===============\n",
      "accuracy_score100.00%\n",
      "============testresult===============\n",
      "accurcy 80.18%\n",
      "              precision    recall  f1-score   support\n",
      "\n",
      "           0       0.82      0.89      0.86       143\n",
      "           1       0.75      0.64      0.69        74\n",
      "\n",
      "    accuracy                           0.80       217\n",
      "   macro avg       0.79      0.76      0.77       217\n",
      "weighted avg       0.80      0.80      0.80       217\n",
      "\n"
     ]
    }
   ],
   "source": [
    "# xgboost model\n",
    "import xgboost as xgb\n",
    "XB = xgb.XGBClassifier()\n",
    "XB.fit(x_train,y_train)\n",
    "metric_score(XB,x_train,x_test,y_train,y_test,train = True)\n",
    "metric_score(XB,x_train,x_test,y_train,y_test,train = False)\n",
    " "
   ]
  },
  {
   "cell_type": "code",
   "execution_count": 94,
   "id": "4a2764a3",
   "metadata": {},
   "outputs": [],
   "source": [
    "from sklearn.metrics import RocCurveDisplay"
   ]
  },
  {
   "cell_type": "code",
   "execution_count": 104,
   "id": "105ba635",
   "metadata": {},
   "outputs": [
    {
     "data": {
      "image/png": "[encoded data removed]",
      "text/plain": [
       "<Figure size 640x480 with 1 Axes>"
      ]
     },
     "metadata": {},
     "output_type": "display_data"
    }
   ],
   "source": [
    "disp = RocCurveDisplay.from_estimator(RFC, x_test, y_test)\n",
    "disp.figure_.suptitle(\"ROC Curve\")\n",
    "plt.show()\n",
    "#I have generated the ROC Curve for my final model and it shows the AUC score for my final model to be of 87%"
   ]
  },
  {
   "cell_type": "code",
   "execution_count": null,
   "id": "5790bb22",
   "metadata": {},
   "outputs": [],
   "source": [
    "#all data together"
   ]
  },
  {
   "cell_type": "code",
   "execution_count": 115,
   "id": "3c91b3f8",
   "metadata": {},
   "outputs": [],
   "source": [
    "lr = LogisticRegression()\n",
    "dt = DecisionTreeClassifier()\n",
    "rf = RandomForestClassifier()\n",
    "kn = KNeighborsClassifier()\n"
   ]
  },
  {
   "cell_type": "code",
   "execution_count": 116,
   "id": "cb53c591",
   "metadata": {},
   "outputs": [
    {
     "data": {
      "text/plain": [
       "KNeighborsClassifier()"
      ]
     },
     "execution_count": 116,
     "metadata": {},
     "output_type": "execute_result"
    }
   ],
   "source": [
    "lr.fit(x_train,y_train)\n",
    "dt.fit(x_train,y_train)\n",
    "rf.fit(x_train,y_train)\n",
    "kn.fit(x_train,y_train)\n",
    "\n"
   ]
  },
  {
   "cell_type": "code",
   "execution_count": 119,
   "id": "7d93e31c",
   "metadata": {},
   "outputs": [
    {
     "data": {
      "text/plain": [
       "KNeighborsClassifier()"
      ]
     },
     "execution_count": 119,
     "metadata": {},
     "output_type": "execute_result"
    }
   ],
   "source": [
    "lr.score(x_test,y_test)\n",
    "dt.fit(x_test,y_test)\n",
    "rf.fit(x_test,y_test)\n",
    "kn.fit(x_test,y_test)"
   ]
  },
  {
   "cell_type": "code",
   "execution_count": 120,
   "id": "96a0c1dc",
   "metadata": {},
   "outputs": [
    {
     "data": {
      "image/png": "[encoded data removed]",
      "text/plain": [
       "<Figure size 640x480 with 1 Axes>"
      ]
     },
     "metadata": {},
     "output_type": "display_data"
    }
   ],
   "source": [
    "disp = plot_roc_curve(dt,x_train,y_train)\n",
    "plot_roc_curve(lr,x_train,y_train,ax = disp.ax_)\n",
    "plot_roc_curve(rf,x_train,y_train,ax = disp.ax_)\n",
    "plot_roc_curve(kn,x_train,y_train,ax = disp.ax_)\n",
    "\n",
    "plt.legend(prop={'size' : 10},loc = 'lower right')\n",
    "plt.show()"
   ]
  },
  {
   "cell_type": "code",
   "execution_count": null,
   "id": "8fe2def0",
   "metadata": {},
   "outputs": [],
   "source": []
  }
 ],
 "metadata": {
  "kernelspec": {
   "display_name": "Python 3 (ipykernel)",
   "language": "python",
   "name": "python3"
  },
  "language_info": {
   "codemirror_mode": {
    "name": "ipython",
    "version": 3
   },
   "file_extension": ".py",
   "mimetype": "text/x-python",
   "name": "python",
   "nbconvert_exporter": "python",
   "pygments_lexer": "ipython3",
   "version": "3.9.13"
  }
 },
 "nbformat": 4,
 "nbformat_minor": 5
}
